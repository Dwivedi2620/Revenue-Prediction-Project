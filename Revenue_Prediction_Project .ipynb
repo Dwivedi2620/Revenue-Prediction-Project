{
 "cells": [
  {
   "cell_type": "code",
   "execution_count": 1,
   "id": "c8e8533e",
   "metadata": {},
   "outputs": [],
   "source": [
    "import pandas as pd\n",
    "import matplotlib.pyplot as plt\n",
    "import numpy as np"
   ]
  },
  {
   "cell_type": "markdown",
   "id": "e9534b75",
   "metadata": {},
   "source": [
    "# Load the dataset"
   ]
  },
  {
   "cell_type": "code",
   "execution_count": 2,
   "id": "500a59f9",
   "metadata": {},
   "outputs": [
    {
     "data": {
      "text/html": [
       "<div>\n",
       "<style scoped>\n",
       "    .dataframe tbody tr th:only-of-type {\n",
       "        vertical-align: middle;\n",
       "    }\n",
       "\n",
       "    .dataframe tbody tr th {\n",
       "        vertical-align: top;\n",
       "    }\n",
       "\n",
       "    .dataframe thead th {\n",
       "        text-align: right;\n",
       "    }\n",
       "</style>\n",
       "<table border=\"1\" class=\"dataframe\">\n",
       "  <thead>\n",
       "    <tr style=\"text-align: right;\">\n",
       "      <th></th>\n",
       "      <th>Id</th>\n",
       "      <th>Name</th>\n",
       "      <th>Franchise</th>\n",
       "      <th>Category</th>\n",
       "      <th>City</th>\n",
       "      <th>No_Of_Item</th>\n",
       "      <th>Order_Placed</th>\n",
       "      <th>Revenue</th>\n",
       "    </tr>\n",
       "  </thead>\n",
       "  <tbody>\n",
       "    <tr>\n",
       "      <th>0</th>\n",
       "      <td>101</td>\n",
       "      <td>HungryHowie'sPizza</td>\n",
       "      <td>Yes</td>\n",
       "      <td>Mexican</td>\n",
       "      <td>Bengaluru</td>\n",
       "      <td>55</td>\n",
       "      <td>5.5</td>\n",
       "      <td>5953753</td>\n",
       "    </tr>\n",
       "    <tr>\n",
       "      <th>1</th>\n",
       "      <td>102</td>\n",
       "      <td>CharleysPhillySteaks</td>\n",
       "      <td>No</td>\n",
       "      <td>Varied Menu</td>\n",
       "      <td>Gurugram</td>\n",
       "      <td>72</td>\n",
       "      <td>6.8</td>\n",
       "      <td>7223131</td>\n",
       "    </tr>\n",
       "    <tr>\n",
       "      <th>2</th>\n",
       "      <td>103</td>\n",
       "      <td>Chuy's</td>\n",
       "      <td>Yes</td>\n",
       "      <td>Chicken</td>\n",
       "      <td>Pune</td>\n",
       "      <td>25</td>\n",
       "      <td>1.9</td>\n",
       "      <td>2555379</td>\n",
       "    </tr>\n",
       "    <tr>\n",
       "      <th>3</th>\n",
       "      <td>104</td>\n",
       "      <td>O'Charley's</td>\n",
       "      <td>Yes</td>\n",
       "      <td>Italian/Pizza</td>\n",
       "      <td>Mumbai</td>\n",
       "      <td>18</td>\n",
       "      <td>2.5</td>\n",
       "      <td>2175511</td>\n",
       "    </tr>\n",
       "    <tr>\n",
       "      <th>4</th>\n",
       "      <td>105</td>\n",
       "      <td>PolloTropical</td>\n",
       "      <td>Yes</td>\n",
       "      <td>Pizza</td>\n",
       "      <td>Noida</td>\n",
       "      <td>48</td>\n",
       "      <td>4.2</td>\n",
       "      <td>4816715</td>\n",
       "    </tr>\n",
       "    <tr>\n",
       "      <th>...</th>\n",
       "      <td>...</td>\n",
       "      <td>...</td>\n",
       "      <td>...</td>\n",
       "      <td>...</td>\n",
       "      <td>...</td>\n",
       "      <td>...</td>\n",
       "      <td>...</td>\n",
       "      <td>...</td>\n",
       "    </tr>\n",
       "    <tr>\n",
       "      <th>95</th>\n",
       "      <td>196</td>\n",
       "      <td>Wetzel'sPretzels</td>\n",
       "      <td>No</td>\n",
       "      <td>Italian/Pizza</td>\n",
       "      <td>Bengaluru</td>\n",
       "      <td>19</td>\n",
       "      <td>1.1</td>\n",
       "      <td>1270499</td>\n",
       "    </tr>\n",
       "    <tr>\n",
       "      <th>96</th>\n",
       "      <td>197</td>\n",
       "      <td>LaMadeleineCountryFrenchCafe</td>\n",
       "      <td>Yes</td>\n",
       "      <td>Varied Menu</td>\n",
       "      <td>Bengaluru</td>\n",
       "      <td>75</td>\n",
       "      <td>6.3</td>\n",
       "      <td>6412623</td>\n",
       "    </tr>\n",
       "    <tr>\n",
       "      <th>97</th>\n",
       "      <td>198</td>\n",
       "      <td>Giordano's</td>\n",
       "      <td>Yes</td>\n",
       "      <td>Varied Menu</td>\n",
       "      <td>Gurugram</td>\n",
       "      <td>77</td>\n",
       "      <td>6.2</td>\n",
       "      <td>6694797</td>\n",
       "    </tr>\n",
       "    <tr>\n",
       "      <th>98</th>\n",
       "      <td>199</td>\n",
       "      <td>IslandsFineBurgers&amp;Drinks</td>\n",
       "      <td>Yes</td>\n",
       "      <td>Sports Bar</td>\n",
       "      <td>Pune</td>\n",
       "      <td>25</td>\n",
       "      <td>2.1</td>\n",
       "      <td>2344689</td>\n",
       "    </tr>\n",
       "    <tr>\n",
       "      <th>99</th>\n",
       "      <td>200</td>\n",
       "      <td>Mimi'sBistro&amp;Bakery</td>\n",
       "      <td>No</td>\n",
       "      <td>BBQ</td>\n",
       "      <td>Mumbai</td>\n",
       "      <td>50</td>\n",
       "      <td>4.4</td>\n",
       "      <td>4567678</td>\n",
       "    </tr>\n",
       "  </tbody>\n",
       "</table>\n",
       "<p>100 rows × 8 columns</p>\n",
       "</div>"
      ],
      "text/plain": [
       "     Id                          Name Franchise       Category       City  \\\n",
       "0   101            HungryHowie'sPizza       Yes        Mexican  Bengaluru   \n",
       "1   102          CharleysPhillySteaks        No    Varied Menu   Gurugram   \n",
       "2   103                        Chuy's       Yes        Chicken       Pune   \n",
       "3   104                   O'Charley's       Yes  Italian/Pizza     Mumbai   \n",
       "4   105                 PolloTropical       Yes          Pizza      Noida   \n",
       "..  ...                           ...       ...            ...        ...   \n",
       "95  196              Wetzel'sPretzels        No  Italian/Pizza  Bengaluru   \n",
       "96  197  LaMadeleineCountryFrenchCafe       Yes    Varied Menu  Bengaluru   \n",
       "97  198                    Giordano's       Yes    Varied Menu   Gurugram   \n",
       "98  199     IslandsFineBurgers&Drinks       Yes     Sports Bar       Pune   \n",
       "99  200           Mimi'sBistro&Bakery        No            BBQ     Mumbai   \n",
       "\n",
       "    No_Of_Item  Order_Placed  Revenue  \n",
       "0           55           5.5  5953753  \n",
       "1           72           6.8  7223131  \n",
       "2           25           1.9  2555379  \n",
       "3           18           2.5  2175511  \n",
       "4           48           4.2  4816715  \n",
       "..         ...           ...      ...  \n",
       "95          19           1.1  1270499  \n",
       "96          75           6.3  6412623  \n",
       "97          77           6.2  6694797  \n",
       "98          25           2.1  2344689  \n",
       "99          50           4.4  4567678  \n",
       "\n",
       "[100 rows x 8 columns]"
      ]
     },
     "execution_count": 2,
     "metadata": {},
     "output_type": "execute_result"
    }
   ],
   "source": [
    "df= pd.read_csv(\"G:/My Drive/Data Analytics Training Course/Python/Dataset/revenue_prediction.csv\")\n",
    "df"
   ]
  },
  {
   "cell_type": "code",
   "execution_count": 3,
   "id": "edd1a30c",
   "metadata": {},
   "outputs": [
    {
     "data": {
      "text/html": [
       "<div>\n",
       "<style scoped>\n",
       "    .dataframe tbody tr th:only-of-type {\n",
       "        vertical-align: middle;\n",
       "    }\n",
       "\n",
       "    .dataframe tbody tr th {\n",
       "        vertical-align: top;\n",
       "    }\n",
       "\n",
       "    .dataframe thead th {\n",
       "        text-align: right;\n",
       "    }\n",
       "</style>\n",
       "<table border=\"1\" class=\"dataframe\">\n",
       "  <thead>\n",
       "    <tr style=\"text-align: right;\">\n",
       "      <th></th>\n",
       "      <th>Id</th>\n",
       "      <th>Name</th>\n",
       "      <th>Franchise</th>\n",
       "      <th>Category</th>\n",
       "      <th>City</th>\n",
       "      <th>No_Of_Item</th>\n",
       "      <th>Order_Placed</th>\n",
       "      <th>Revenue</th>\n",
       "    </tr>\n",
       "  </thead>\n",
       "  <tbody>\n",
       "    <tr>\n",
       "      <th>0</th>\n",
       "      <td>101</td>\n",
       "      <td>HungryHowie'sPizza</td>\n",
       "      <td>Yes</td>\n",
       "      <td>Mexican</td>\n",
       "      <td>Bengaluru</td>\n",
       "      <td>55</td>\n",
       "      <td>5.5</td>\n",
       "      <td>5953753</td>\n",
       "    </tr>\n",
       "    <tr>\n",
       "      <th>1</th>\n",
       "      <td>102</td>\n",
       "      <td>CharleysPhillySteaks</td>\n",
       "      <td>No</td>\n",
       "      <td>Varied Menu</td>\n",
       "      <td>Gurugram</td>\n",
       "      <td>72</td>\n",
       "      <td>6.8</td>\n",
       "      <td>7223131</td>\n",
       "    </tr>\n",
       "    <tr>\n",
       "      <th>2</th>\n",
       "      <td>103</td>\n",
       "      <td>Chuy's</td>\n",
       "      <td>Yes</td>\n",
       "      <td>Chicken</td>\n",
       "      <td>Pune</td>\n",
       "      <td>25</td>\n",
       "      <td>1.9</td>\n",
       "      <td>2555379</td>\n",
       "    </tr>\n",
       "    <tr>\n",
       "      <th>3</th>\n",
       "      <td>104</td>\n",
       "      <td>O'Charley's</td>\n",
       "      <td>Yes</td>\n",
       "      <td>Italian/Pizza</td>\n",
       "      <td>Mumbai</td>\n",
       "      <td>18</td>\n",
       "      <td>2.5</td>\n",
       "      <td>2175511</td>\n",
       "    </tr>\n",
       "    <tr>\n",
       "      <th>4</th>\n",
       "      <td>105</td>\n",
       "      <td>PolloTropical</td>\n",
       "      <td>Yes</td>\n",
       "      <td>Pizza</td>\n",
       "      <td>Noida</td>\n",
       "      <td>48</td>\n",
       "      <td>4.2</td>\n",
       "      <td>4816715</td>\n",
       "    </tr>\n",
       "  </tbody>\n",
       "</table>\n",
       "</div>"
      ],
      "text/plain": [
       "    Id                  Name Franchise       Category       City  No_Of_Item  \\\n",
       "0  101    HungryHowie'sPizza       Yes        Mexican  Bengaluru          55   \n",
       "1  102  CharleysPhillySteaks        No    Varied Menu   Gurugram          72   \n",
       "2  103                Chuy's       Yes        Chicken       Pune          25   \n",
       "3  104           O'Charley's       Yes  Italian/Pizza     Mumbai          18   \n",
       "4  105         PolloTropical       Yes          Pizza      Noida          48   \n",
       "\n",
       "   Order_Placed  Revenue  \n",
       "0           5.5  5953753  \n",
       "1           6.8  7223131  \n",
       "2           1.9  2555379  \n",
       "3           2.5  2175511  \n",
       "4           4.2  4816715  "
      ]
     },
     "execution_count": 3,
     "metadata": {},
     "output_type": "execute_result"
    }
   ],
   "source": [
    "df.head()"
   ]
  },
  {
   "cell_type": "code",
   "execution_count": 6,
   "id": "538934de",
   "metadata": {},
   "outputs": [
    {
     "name": "stdout",
     "output_type": "stream",
     "text": [
      "<class 'pandas.core.frame.DataFrame'>\n",
      "RangeIndex: 100 entries, 0 to 99\n",
      "Data columns (total 8 columns):\n",
      " #   Column        Non-Null Count  Dtype  \n",
      "---  ------        --------------  -----  \n",
      " 0   Id            100 non-null    int64  \n",
      " 1   Name          100 non-null    object \n",
      " 2   Franchise     100 non-null    object \n",
      " 3   Category      100 non-null    object \n",
      " 4   City          100 non-null    object \n",
      " 5   No_Of_Item    100 non-null    int64  \n",
      " 6   Order_Placed  100 non-null    float64\n",
      " 7   Revenue       100 non-null    int64  \n",
      "dtypes: float64(1), int64(3), object(4)\n",
      "memory usage: 6.4+ KB\n"
     ]
    }
   ],
   "source": [
    "df.info()"
   ]
  },
  {
   "cell_type": "markdown",
   "id": "06441a3d",
   "metadata": {},
   "source": [
    "# Check Null values in a dataset"
   ]
  },
  {
   "cell_type": "code",
   "execution_count": 4,
   "id": "91058046",
   "metadata": {},
   "outputs": [
    {
     "data": {
      "text/plain": [
       "Id              0\n",
       "Name            0\n",
       "Franchise       0\n",
       "Category        0\n",
       "City            0\n",
       "No_Of_Item      0\n",
       "Order_Placed    0\n",
       "Revenue         0\n",
       "dtype: int64"
      ]
     },
     "execution_count": 4,
     "metadata": {},
     "output_type": "execute_result"
    }
   ],
   "source": [
    "df.isnull().sum()"
   ]
  },
  {
   "cell_type": "code",
   "execution_count": 5,
   "id": "abda0481",
   "metadata": {},
   "outputs": [
    {
     "data": {
      "text/plain": [
       "(100, 8)"
      ]
     },
     "execution_count": 5,
     "metadata": {},
     "output_type": "execute_result"
    }
   ],
   "source": [
    "df.shape"
   ]
  },
  {
   "cell_type": "code",
   "execution_count": 9,
   "id": "391e3880",
   "metadata": {},
   "outputs": [],
   "source": [
    "df.drop([\"Id\"], axis = 1 , inplace =True)"
   ]
  },
  {
   "cell_type": "code",
   "execution_count": 10,
   "id": "a3ec8fd2",
   "metadata": {},
   "outputs": [
    {
     "data": {
      "text/html": [
       "<div>\n",
       "<style scoped>\n",
       "    .dataframe tbody tr th:only-of-type {\n",
       "        vertical-align: middle;\n",
       "    }\n",
       "\n",
       "    .dataframe tbody tr th {\n",
       "        vertical-align: top;\n",
       "    }\n",
       "\n",
       "    .dataframe thead th {\n",
       "        text-align: right;\n",
       "    }\n",
       "</style>\n",
       "<table border=\"1\" class=\"dataframe\">\n",
       "  <thead>\n",
       "    <tr style=\"text-align: right;\">\n",
       "      <th></th>\n",
       "      <th>No_Of_Item</th>\n",
       "      <th>Order_Placed</th>\n",
       "      <th>Revenue</th>\n",
       "    </tr>\n",
       "  </thead>\n",
       "  <tbody>\n",
       "    <tr>\n",
       "      <th>count</th>\n",
       "      <td>100.000000</td>\n",
       "      <td>100.000000</td>\n",
       "      <td>1.000000e+02</td>\n",
       "    </tr>\n",
       "    <tr>\n",
       "      <th>mean</th>\n",
       "      <td>49.080000</td>\n",
       "      <td>4.086000</td>\n",
       "      <td>4.395161e+06</td>\n",
       "    </tr>\n",
       "    <tr>\n",
       "      <th>std</th>\n",
       "      <td>22.370923</td>\n",
       "      <td>2.055101</td>\n",
       "      <td>2.659932e+06</td>\n",
       "    </tr>\n",
       "    <tr>\n",
       "      <th>min</th>\n",
       "      <td>18.000000</td>\n",
       "      <td>1.000000</td>\n",
       "      <td>8.498700e+05</td>\n",
       "    </tr>\n",
       "    <tr>\n",
       "      <th>25%</th>\n",
       "      <td>34.750000</td>\n",
       "      <td>2.750000</td>\n",
       "      <td>2.688328e+06</td>\n",
       "    </tr>\n",
       "    <tr>\n",
       "      <th>50%</th>\n",
       "      <td>45.000000</td>\n",
       "      <td>3.650000</td>\n",
       "      <td>3.911401e+06</td>\n",
       "    </tr>\n",
       "    <tr>\n",
       "      <th>75%</th>\n",
       "      <td>57.250000</td>\n",
       "      <td>5.100000</td>\n",
       "      <td>5.330084e+06</td>\n",
       "    </tr>\n",
       "    <tr>\n",
       "      <th>max</th>\n",
       "      <td>126.000000</td>\n",
       "      <td>13.000000</td>\n",
       "      <td>1.969694e+07</td>\n",
       "    </tr>\n",
       "  </tbody>\n",
       "</table>\n",
       "</div>"
      ],
      "text/plain": [
       "       No_Of_Item  Order_Placed       Revenue\n",
       "count  100.000000    100.000000  1.000000e+02\n",
       "mean    49.080000      4.086000  4.395161e+06\n",
       "std     22.370923      2.055101  2.659932e+06\n",
       "min     18.000000      1.000000  8.498700e+05\n",
       "25%     34.750000      2.750000  2.688328e+06\n",
       "50%     45.000000      3.650000  3.911401e+06\n",
       "75%     57.250000      5.100000  5.330084e+06\n",
       "max    126.000000     13.000000  1.969694e+07"
      ]
     },
     "execution_count": 10,
     "metadata": {},
     "output_type": "execute_result"
    }
   ],
   "source": [
    "df.describe()"
   ]
  },
  {
   "cell_type": "markdown",
   "id": "7d3c0cb9",
   "metadata": {},
   "source": [
    "# check outliers from given dataset"
   ]
  },
  {
   "cell_type": "code",
   "execution_count": 12,
   "id": "0d9656ec",
   "metadata": {},
   "outputs": [
    {
     "data": {
      "image/png": "[encoded data removed]",
      "text/plain": [
       "<Figure size 640x480 with 1 Axes>"
      ]
     },
     "metadata": {},
     "output_type": "display_data"
    }
   ],
   "source": [
    "df.boxplot(column = [\"No_Of_Item\" , \"Order_Placed\" , \"Revenue\"])\n",
    "plt.show()"
   ]
  },
  {
   "cell_type": "markdown",
   "id": "a60a6698",
   "metadata": {},
   "source": [
    "# Remove outliers in dataset with the help of Zscore"
   ]
  },
  {
   "cell_type": "code",
   "execution_count": 15,
   "id": "f9acc3a6",
   "metadata": {},
   "outputs": [
    {
     "name": "stdout",
     "output_type": "stream",
     "text": [
      "Upper_Limit:   12374957.464884475\n",
      "Lower_Limit:   -3584635.664884475\n"
     ]
    }
   ],
   "source": [
    "# find limits\n",
    "\n",
    "upper_limit = df[\"Revenue\"].mean() + 3 * df[\"Revenue\"].std()\n",
    "lower_limit = df[\"Revenue\"].mean() - 3 * df[\"Revenue\"].std()\n",
    "\n",
    "print(\"Upper_Limit:  \",upper_limit)\n",
    "print(\"Lower_Limit:  \",lower_limit)"
   ]
  },
  {
   "cell_type": "code",
   "execution_count": 18,
   "id": "9fb5a245",
   "metadata": {},
   "outputs": [
    {
     "data": {
      "text/html": [
       "<div>\n",
       "<style scoped>\n",
       "    .dataframe tbody tr th:only-of-type {\n",
       "        vertical-align: middle;\n",
       "    }\n",
       "\n",
       "    .dataframe tbody tr th {\n",
       "        vertical-align: top;\n",
       "    }\n",
       "\n",
       "    .dataframe thead th {\n",
       "        text-align: right;\n",
       "    }\n",
       "</style>\n",
       "<table border=\"1\" class=\"dataframe\">\n",
       "  <thead>\n",
       "    <tr style=\"text-align: right;\">\n",
       "      <th></th>\n",
       "      <th>Name</th>\n",
       "      <th>Franchise</th>\n",
       "      <th>Category</th>\n",
       "      <th>City</th>\n",
       "      <th>No_Of_Item</th>\n",
       "      <th>Order_Placed</th>\n",
       "      <th>Revenue</th>\n",
       "    </tr>\n",
       "  </thead>\n",
       "  <tbody>\n",
       "    <tr>\n",
       "      <th>16</th>\n",
       "      <td>ZoesKitchen</td>\n",
       "      <td>Yes</td>\n",
       "      <td>Burger</td>\n",
       "      <td>Bengaluru</td>\n",
       "      <td>123</td>\n",
       "      <td>10.8</td>\n",
       "      <td>19696939</td>\n",
       "    </tr>\n",
       "    <tr>\n",
       "      <th>75</th>\n",
       "      <td>WhichWich</td>\n",
       "      <td>No</td>\n",
       "      <td>Bakery Cafe</td>\n",
       "      <td>Bengaluru</td>\n",
       "      <td>126</td>\n",
       "      <td>13.0</td>\n",
       "      <td>16549064</td>\n",
       "    </tr>\n",
       "  </tbody>\n",
       "</table>\n",
       "</div>"
      ],
      "text/plain": [
       "           Name Franchise     Category       City  No_Of_Item  Order_Placed  \\\n",
       "16  ZoesKitchen       Yes       Burger  Bengaluru         123          10.8   \n",
       "75    WhichWich        No  Bakery Cafe  Bengaluru         126          13.0   \n",
       "\n",
       "     Revenue  \n",
       "16  19696939  \n",
       "75  16549064  "
      ]
     },
     "execution_count": 18,
     "metadata": {},
     "output_type": "execute_result"
    }
   ],
   "source": [
    "# find outliers\n",
    "\n",
    "df.loc[(df[\"Revenue\"] > upper_limit) | (df[\"Revenue\"] < lower_limit)]"
   ]
  },
  {
   "cell_type": "code",
   "execution_count": 19,
   "id": "33a294c0",
   "metadata": {},
   "outputs": [
    {
     "name": "stdout",
     "output_type": "stream",
     "text": [
      "before removing outliers:  100\n",
      "after removing outliers:  98\n",
      "outliers: 2\n"
     ]
    }
   ],
   "source": [
    "# trimming the outlier in a dataset\n",
    "\n",
    "new_df = df.loc[(df[\"Revenue\"] < upper_limit) & (df[\"Revenue\"] > lower_limit)]\n",
    "print(\"before removing outliers: \", len(df))\n",
    "print(\"after removing outliers: \", len(new_df))\n",
    "print(\"outliers:\" , len(df) - len(new_df))                "
   ]
  },
  {
   "cell_type": "code",
   "execution_count": 21,
   "id": "86669f1a",
   "metadata": {},
   "outputs": [
    {
     "data": {
      "text/html": [
       "<div>\n",
       "<style scoped>\n",
       "    .dataframe tbody tr th:only-of-type {\n",
       "        vertical-align: middle;\n",
       "    }\n",
       "\n",
       "    .dataframe tbody tr th {\n",
       "        vertical-align: top;\n",
       "    }\n",
       "\n",
       "    .dataframe thead th {\n",
       "        text-align: right;\n",
       "    }\n",
       "</style>\n",
       "<table border=\"1\" class=\"dataframe\">\n",
       "  <thead>\n",
       "    <tr style=\"text-align: right;\">\n",
       "      <th></th>\n",
       "      <th>Name</th>\n",
       "      <th>Franchise</th>\n",
       "      <th>Category</th>\n",
       "      <th>City</th>\n",
       "      <th>No_Of_Item</th>\n",
       "      <th>Order_Placed</th>\n",
       "      <th>Revenue</th>\n",
       "    </tr>\n",
       "  </thead>\n",
       "  <tbody>\n",
       "    <tr>\n",
       "      <th>0</th>\n",
       "      <td>HungryHowie'sPizza</td>\n",
       "      <td>Yes</td>\n",
       "      <td>Mexican</td>\n",
       "      <td>Bengaluru</td>\n",
       "      <td>55</td>\n",
       "      <td>5.5</td>\n",
       "      <td>5953753</td>\n",
       "    </tr>\n",
       "    <tr>\n",
       "      <th>1</th>\n",
       "      <td>CharleysPhillySteaks</td>\n",
       "      <td>No</td>\n",
       "      <td>Varied Menu</td>\n",
       "      <td>Gurugram</td>\n",
       "      <td>72</td>\n",
       "      <td>6.8</td>\n",
       "      <td>7223131</td>\n",
       "    </tr>\n",
       "    <tr>\n",
       "      <th>2</th>\n",
       "      <td>Chuy's</td>\n",
       "      <td>Yes</td>\n",
       "      <td>Chicken</td>\n",
       "      <td>Pune</td>\n",
       "      <td>25</td>\n",
       "      <td>1.9</td>\n",
       "      <td>2555379</td>\n",
       "    </tr>\n",
       "    <tr>\n",
       "      <th>3</th>\n",
       "      <td>O'Charley's</td>\n",
       "      <td>Yes</td>\n",
       "      <td>Italian/Pizza</td>\n",
       "      <td>Mumbai</td>\n",
       "      <td>18</td>\n",
       "      <td>2.5</td>\n",
       "      <td>2175511</td>\n",
       "    </tr>\n",
       "    <tr>\n",
       "      <th>4</th>\n",
       "      <td>PolloTropical</td>\n",
       "      <td>Yes</td>\n",
       "      <td>Pizza</td>\n",
       "      <td>Noida</td>\n",
       "      <td>48</td>\n",
       "      <td>4.2</td>\n",
       "      <td>4816715</td>\n",
       "    </tr>\n",
       "    <tr>\n",
       "      <th>...</th>\n",
       "      <td>...</td>\n",
       "      <td>...</td>\n",
       "      <td>...</td>\n",
       "      <td>...</td>\n",
       "      <td>...</td>\n",
       "      <td>...</td>\n",
       "      <td>...</td>\n",
       "    </tr>\n",
       "    <tr>\n",
       "      <th>95</th>\n",
       "      <td>Wetzel'sPretzels</td>\n",
       "      <td>No</td>\n",
       "      <td>Italian/Pizza</td>\n",
       "      <td>Bengaluru</td>\n",
       "      <td>19</td>\n",
       "      <td>1.1</td>\n",
       "      <td>1270499</td>\n",
       "    </tr>\n",
       "    <tr>\n",
       "      <th>96</th>\n",
       "      <td>LaMadeleineCountryFrenchCafe</td>\n",
       "      <td>Yes</td>\n",
       "      <td>Varied Menu</td>\n",
       "      <td>Bengaluru</td>\n",
       "      <td>75</td>\n",
       "      <td>6.3</td>\n",
       "      <td>6412623</td>\n",
       "    </tr>\n",
       "    <tr>\n",
       "      <th>97</th>\n",
       "      <td>Giordano's</td>\n",
       "      <td>Yes</td>\n",
       "      <td>Varied Menu</td>\n",
       "      <td>Gurugram</td>\n",
       "      <td>77</td>\n",
       "      <td>6.2</td>\n",
       "      <td>6694797</td>\n",
       "    </tr>\n",
       "    <tr>\n",
       "      <th>98</th>\n",
       "      <td>IslandsFineBurgers&amp;Drinks</td>\n",
       "      <td>Yes</td>\n",
       "      <td>Sports Bar</td>\n",
       "      <td>Pune</td>\n",
       "      <td>25</td>\n",
       "      <td>2.1</td>\n",
       "      <td>2344689</td>\n",
       "    </tr>\n",
       "    <tr>\n",
       "      <th>99</th>\n",
       "      <td>Mimi'sBistro&amp;Bakery</td>\n",
       "      <td>No</td>\n",
       "      <td>BBQ</td>\n",
       "      <td>Mumbai</td>\n",
       "      <td>50</td>\n",
       "      <td>4.4</td>\n",
       "      <td>4567678</td>\n",
       "    </tr>\n",
       "  </tbody>\n",
       "</table>\n",
       "<p>98 rows × 7 columns</p>\n",
       "</div>"
      ],
      "text/plain": [
       "                            Name Franchise       Category       City  \\\n",
       "0             HungryHowie'sPizza       Yes        Mexican  Bengaluru   \n",
       "1           CharleysPhillySteaks        No    Varied Menu   Gurugram   \n",
       "2                         Chuy's       Yes        Chicken       Pune   \n",
       "3                    O'Charley's       Yes  Italian/Pizza     Mumbai   \n",
       "4                  PolloTropical       Yes          Pizza      Noida   \n",
       "..                           ...       ...            ...        ...   \n",
       "95              Wetzel'sPretzels        No  Italian/Pizza  Bengaluru   \n",
       "96  LaMadeleineCountryFrenchCafe       Yes    Varied Menu  Bengaluru   \n",
       "97                    Giordano's       Yes    Varied Menu   Gurugram   \n",
       "98     IslandsFineBurgers&Drinks       Yes     Sports Bar       Pune   \n",
       "99           Mimi'sBistro&Bakery        No            BBQ     Mumbai   \n",
       "\n",
       "    No_Of_Item  Order_Placed  Revenue  \n",
       "0           55           5.5  5953753  \n",
       "1           72           6.8  7223131  \n",
       "2           25           1.9  2555379  \n",
       "3           18           2.5  2175511  \n",
       "4           48           4.2  4816715  \n",
       "..         ...           ...      ...  \n",
       "95          19           1.1  1270499  \n",
       "96          75           6.3  6412623  \n",
       "97          77           6.2  6694797  \n",
       "98          25           2.1  2344689  \n",
       "99          50           4.4  4567678  \n",
       "\n",
       "[98 rows x 7 columns]"
      ]
     },
     "execution_count": 21,
     "metadata": {},
     "output_type": "execute_result"
    }
   ],
   "source": [
    "new_df"
   ]
  },
  {
   "cell_type": "code",
   "execution_count": 22,
   "id": "3f23d261",
   "metadata": {},
   "outputs": [],
   "source": [
    "# find numerical and categorical variable \n",
    "\n",
    "numerical_features = new_df.select_dtypes(include = [np.number])\n",
    "categorical_features = new_df.select_dtypes(exclude = [np.number])"
   ]
  },
  {
   "cell_type": "code",
   "execution_count": 23,
   "id": "e82342cb",
   "metadata": {},
   "outputs": [
    {
     "data": {
      "text/html": [
       "<div>\n",
       "<style scoped>\n",
       "    .dataframe tbody tr th:only-of-type {\n",
       "        vertical-align: middle;\n",
       "    }\n",
       "\n",
       "    .dataframe tbody tr th {\n",
       "        vertical-align: top;\n",
       "    }\n",
       "\n",
       "    .dataframe thead th {\n",
       "        text-align: right;\n",
       "    }\n",
       "</style>\n",
       "<table border=\"1\" class=\"dataframe\">\n",
       "  <thead>\n",
       "    <tr style=\"text-align: right;\">\n",
       "      <th></th>\n",
       "      <th>No_Of_Item</th>\n",
       "      <th>Order_Placed</th>\n",
       "      <th>Revenue</th>\n",
       "    </tr>\n",
       "  </thead>\n",
       "  <tbody>\n",
       "    <tr>\n",
       "      <th>0</th>\n",
       "      <td>55</td>\n",
       "      <td>5.5</td>\n",
       "      <td>5953753</td>\n",
       "    </tr>\n",
       "    <tr>\n",
       "      <th>1</th>\n",
       "      <td>72</td>\n",
       "      <td>6.8</td>\n",
       "      <td>7223131</td>\n",
       "    </tr>\n",
       "    <tr>\n",
       "      <th>2</th>\n",
       "      <td>25</td>\n",
       "      <td>1.9</td>\n",
       "      <td>2555379</td>\n",
       "    </tr>\n",
       "    <tr>\n",
       "      <th>3</th>\n",
       "      <td>18</td>\n",
       "      <td>2.5</td>\n",
       "      <td>2175511</td>\n",
       "    </tr>\n",
       "    <tr>\n",
       "      <th>4</th>\n",
       "      <td>48</td>\n",
       "      <td>4.2</td>\n",
       "      <td>4816715</td>\n",
       "    </tr>\n",
       "    <tr>\n",
       "      <th>...</th>\n",
       "      <td>...</td>\n",
       "      <td>...</td>\n",
       "      <td>...</td>\n",
       "    </tr>\n",
       "    <tr>\n",
       "      <th>95</th>\n",
       "      <td>19</td>\n",
       "      <td>1.1</td>\n",
       "      <td>1270499</td>\n",
       "    </tr>\n",
       "    <tr>\n",
       "      <th>96</th>\n",
       "      <td>75</td>\n",
       "      <td>6.3</td>\n",
       "      <td>6412623</td>\n",
       "    </tr>\n",
       "    <tr>\n",
       "      <th>97</th>\n",
       "      <td>77</td>\n",
       "      <td>6.2</td>\n",
       "      <td>6694797</td>\n",
       "    </tr>\n",
       "    <tr>\n",
       "      <th>98</th>\n",
       "      <td>25</td>\n",
       "      <td>2.1</td>\n",
       "      <td>2344689</td>\n",
       "    </tr>\n",
       "    <tr>\n",
       "      <th>99</th>\n",
       "      <td>50</td>\n",
       "      <td>4.4</td>\n",
       "      <td>4567678</td>\n",
       "    </tr>\n",
       "  </tbody>\n",
       "</table>\n",
       "<p>98 rows × 3 columns</p>\n",
       "</div>"
      ],
      "text/plain": [
       "    No_Of_Item  Order_Placed  Revenue\n",
       "0           55           5.5  5953753\n",
       "1           72           6.8  7223131\n",
       "2           25           1.9  2555379\n",
       "3           18           2.5  2175511\n",
       "4           48           4.2  4816715\n",
       "..         ...           ...      ...\n",
       "95          19           1.1  1270499\n",
       "96          75           6.3  6412623\n",
       "97          77           6.2  6694797\n",
       "98          25           2.1  2344689\n",
       "99          50           4.4  4567678\n",
       "\n",
       "[98 rows x 3 columns]"
      ]
     },
     "execution_count": 23,
     "metadata": {},
     "output_type": "execute_result"
    }
   ],
   "source": [
    "numerical_features"
   ]
  },
  {
   "cell_type": "code",
   "execution_count": 24,
   "id": "a7d6dfd6",
   "metadata": {},
   "outputs": [
    {
     "data": {
      "text/html": [
       "<div>\n",
       "<style scoped>\n",
       "    .dataframe tbody tr th:only-of-type {\n",
       "        vertical-align: middle;\n",
       "    }\n",
       "\n",
       "    .dataframe tbody tr th {\n",
       "        vertical-align: top;\n",
       "    }\n",
       "\n",
       "    .dataframe thead th {\n",
       "        text-align: right;\n",
       "    }\n",
       "</style>\n",
       "<table border=\"1\" class=\"dataframe\">\n",
       "  <thead>\n",
       "    <tr style=\"text-align: right;\">\n",
       "      <th></th>\n",
       "      <th>Name</th>\n",
       "      <th>Franchise</th>\n",
       "      <th>Category</th>\n",
       "      <th>City</th>\n",
       "    </tr>\n",
       "  </thead>\n",
       "  <tbody>\n",
       "    <tr>\n",
       "      <th>0</th>\n",
       "      <td>HungryHowie'sPizza</td>\n",
       "      <td>Yes</td>\n",
       "      <td>Mexican</td>\n",
       "      <td>Bengaluru</td>\n",
       "    </tr>\n",
       "    <tr>\n",
       "      <th>1</th>\n",
       "      <td>CharleysPhillySteaks</td>\n",
       "      <td>No</td>\n",
       "      <td>Varied Menu</td>\n",
       "      <td>Gurugram</td>\n",
       "    </tr>\n",
       "    <tr>\n",
       "      <th>2</th>\n",
       "      <td>Chuy's</td>\n",
       "      <td>Yes</td>\n",
       "      <td>Chicken</td>\n",
       "      <td>Pune</td>\n",
       "    </tr>\n",
       "    <tr>\n",
       "      <th>3</th>\n",
       "      <td>O'Charley's</td>\n",
       "      <td>Yes</td>\n",
       "      <td>Italian/Pizza</td>\n",
       "      <td>Mumbai</td>\n",
       "    </tr>\n",
       "    <tr>\n",
       "      <th>4</th>\n",
       "      <td>PolloTropical</td>\n",
       "      <td>Yes</td>\n",
       "      <td>Pizza</td>\n",
       "      <td>Noida</td>\n",
       "    </tr>\n",
       "    <tr>\n",
       "      <th>...</th>\n",
       "      <td>...</td>\n",
       "      <td>...</td>\n",
       "      <td>...</td>\n",
       "      <td>...</td>\n",
       "    </tr>\n",
       "    <tr>\n",
       "      <th>95</th>\n",
       "      <td>Wetzel'sPretzels</td>\n",
       "      <td>No</td>\n",
       "      <td>Italian/Pizza</td>\n",
       "      <td>Bengaluru</td>\n",
       "    </tr>\n",
       "    <tr>\n",
       "      <th>96</th>\n",
       "      <td>LaMadeleineCountryFrenchCafe</td>\n",
       "      <td>Yes</td>\n",
       "      <td>Varied Menu</td>\n",
       "      <td>Bengaluru</td>\n",
       "    </tr>\n",
       "    <tr>\n",
       "      <th>97</th>\n",
       "      <td>Giordano's</td>\n",
       "      <td>Yes</td>\n",
       "      <td>Varied Menu</td>\n",
       "      <td>Gurugram</td>\n",
       "    </tr>\n",
       "    <tr>\n",
       "      <th>98</th>\n",
       "      <td>IslandsFineBurgers&amp;Drinks</td>\n",
       "      <td>Yes</td>\n",
       "      <td>Sports Bar</td>\n",
       "      <td>Pune</td>\n",
       "    </tr>\n",
       "    <tr>\n",
       "      <th>99</th>\n",
       "      <td>Mimi'sBistro&amp;Bakery</td>\n",
       "      <td>No</td>\n",
       "      <td>BBQ</td>\n",
       "      <td>Mumbai</td>\n",
       "    </tr>\n",
       "  </tbody>\n",
       "</table>\n",
       "<p>98 rows × 4 columns</p>\n",
       "</div>"
      ],
      "text/plain": [
       "                            Name Franchise       Category       City\n",
       "0             HungryHowie'sPizza       Yes        Mexican  Bengaluru\n",
       "1           CharleysPhillySteaks        No    Varied Menu   Gurugram\n",
       "2                         Chuy's       Yes        Chicken       Pune\n",
       "3                    O'Charley's       Yes  Italian/Pizza     Mumbai\n",
       "4                  PolloTropical       Yes          Pizza      Noida\n",
       "..                           ...       ...            ...        ...\n",
       "95              Wetzel'sPretzels        No  Italian/Pizza  Bengaluru\n",
       "96  LaMadeleineCountryFrenchCafe       Yes    Varied Menu  Bengaluru\n",
       "97                    Giordano's       Yes    Varied Menu   Gurugram\n",
       "98     IslandsFineBurgers&Drinks       Yes     Sports Bar       Pune\n",
       "99           Mimi'sBistro&Bakery        No            BBQ     Mumbai\n",
       "\n",
       "[98 rows x 4 columns]"
      ]
     },
     "execution_count": 24,
     "metadata": {},
     "output_type": "execute_result"
    }
   ],
   "source": [
    "categorical_features"
   ]
  },
  {
   "cell_type": "markdown",
   "id": "b41721e7",
   "metadata": {},
   "source": [
    "# Using LabelEncoder for convert categorical to binary form"
   ]
  },
  {
   "cell_type": "code",
   "execution_count": 25,
   "id": "733af3a4",
   "metadata": {},
   "outputs": [],
   "source": [
    "from sklearn.preprocessing import LabelEncoder"
   ]
  },
  {
   "cell_type": "code",
   "execution_count": 29,
   "id": "50a6e850",
   "metadata": {},
   "outputs": [
    {
     "name": "stderr",
     "output_type": "stream",
     "text": [
      "C:\\Users\\admin\\AppData\\Local\\Temp\\ipykernel_10056\\3851865092.py:3: SettingWithCopyWarning: \n",
      "A value is trying to be set on a copy of a slice from a DataFrame.\n",
      "Try using .loc[row_indexer,col_indexer] = value instead\n",
      "\n",
      "See the caveats in the documentation: https://pandas.pydata.org/pandas-docs/stable/user_guide/indexing.html#returning-a-view-versus-a-copy\n",
      "  new_df[col] = le.fit_transform(new_df[col])\n",
      "C:\\Users\\admin\\AppData\\Local\\Temp\\ipykernel_10056\\3851865092.py:3: SettingWithCopyWarning: \n",
      "A value is trying to be set on a copy of a slice from a DataFrame.\n",
      "Try using .loc[row_indexer,col_indexer] = value instead\n",
      "\n",
      "See the caveats in the documentation: https://pandas.pydata.org/pandas-docs/stable/user_guide/indexing.html#returning-a-view-versus-a-copy\n",
      "  new_df[col] = le.fit_transform(new_df[col])\n",
      "C:\\Users\\admin\\AppData\\Local\\Temp\\ipykernel_10056\\3851865092.py:3: SettingWithCopyWarning: \n",
      "A value is trying to be set on a copy of a slice from a DataFrame.\n",
      "Try using .loc[row_indexer,col_indexer] = value instead\n",
      "\n",
      "See the caveats in the documentation: https://pandas.pydata.org/pandas-docs/stable/user_guide/indexing.html#returning-a-view-versus-a-copy\n",
      "  new_df[col] = le.fit_transform(new_df[col])\n",
      "C:\\Users\\admin\\AppData\\Local\\Temp\\ipykernel_10056\\3851865092.py:3: SettingWithCopyWarning: \n",
      "A value is trying to be set on a copy of a slice from a DataFrame.\n",
      "Try using .loc[row_indexer,col_indexer] = value instead\n",
      "\n",
      "See the caveats in the documentation: https://pandas.pydata.org/pandas-docs/stable/user_guide/indexing.html#returning-a-view-versus-a-copy\n",
      "  new_df[col] = le.fit_transform(new_df[col])\n"
     ]
    }
   ],
   "source": [
    "le = LabelEncoder()\n",
    "for col in categorical_features:\n",
    "    new_df[col] = le.fit_transform(new_df[col])"
   ]
  },
  {
   "cell_type": "code",
   "execution_count": 31,
   "id": "fd10ae18",
   "metadata": {},
   "outputs": [
    {
     "data": {
      "text/html": [
       "<div>\n",
       "<style scoped>\n",
       "    .dataframe tbody tr th:only-of-type {\n",
       "        vertical-align: middle;\n",
       "    }\n",
       "\n",
       "    .dataframe tbody tr th {\n",
       "        vertical-align: top;\n",
       "    }\n",
       "\n",
       "    .dataframe thead th {\n",
       "        text-align: right;\n",
       "    }\n",
       "</style>\n",
       "<table border=\"1\" class=\"dataframe\">\n",
       "  <thead>\n",
       "    <tr style=\"text-align: right;\">\n",
       "      <th></th>\n",
       "      <th>Name</th>\n",
       "      <th>Franchise</th>\n",
       "      <th>Category</th>\n",
       "      <th>City</th>\n",
       "      <th>No_Of_Item</th>\n",
       "      <th>Order_Placed</th>\n",
       "      <th>Revenue</th>\n",
       "    </tr>\n",
       "  </thead>\n",
       "  <tbody>\n",
       "    <tr>\n",
       "      <th>0</th>\n",
       "      <td>40</td>\n",
       "      <td>1</td>\n",
       "      <td>12</td>\n",
       "      <td>0</td>\n",
       "      <td>55</td>\n",
       "      <td>5.5</td>\n",
       "      <td>5953753</td>\n",
       "    </tr>\n",
       "    <tr>\n",
       "      <th>1</th>\n",
       "      <td>14</td>\n",
       "      <td>0</td>\n",
       "      <td>19</td>\n",
       "      <td>1</td>\n",
       "      <td>72</td>\n",
       "      <td>6.8</td>\n",
       "      <td>7223131</td>\n",
       "    </tr>\n",
       "    <tr>\n",
       "      <th>2</th>\n",
       "      <td>16</td>\n",
       "      <td>1</td>\n",
       "      <td>5</td>\n",
       "      <td>4</td>\n",
       "      <td>25</td>\n",
       "      <td>1.9</td>\n",
       "      <td>2555379</td>\n",
       "    </tr>\n",
       "    <tr>\n",
       "      <th>3</th>\n",
       "      <td>60</td>\n",
       "      <td>1</td>\n",
       "      <td>11</td>\n",
       "      <td>2</td>\n",
       "      <td>18</td>\n",
       "      <td>2.5</td>\n",
       "      <td>2175511</td>\n",
       "    </tr>\n",
       "    <tr>\n",
       "      <th>4</th>\n",
       "      <td>68</td>\n",
       "      <td>1</td>\n",
       "      <td>13</td>\n",
       "      <td>3</td>\n",
       "      <td>48</td>\n",
       "      <td>4.2</td>\n",
       "      <td>4816715</td>\n",
       "    </tr>\n",
       "    <tr>\n",
       "      <th>5</th>\n",
       "      <td>53</td>\n",
       "      <td>1</td>\n",
       "      <td>15</td>\n",
       "      <td>3</td>\n",
       "      <td>56</td>\n",
       "      <td>4.9</td>\n",
       "      <td>4517319</td>\n",
       "    </tr>\n",
       "    <tr>\n",
       "      <th>6</th>\n",
       "      <td>17</td>\n",
       "      <td>1</td>\n",
       "      <td>18</td>\n",
       "      <td>3</td>\n",
       "      <td>58</td>\n",
       "      <td>5.0</td>\n",
       "      <td>5966635</td>\n",
       "    </tr>\n",
       "    <tr>\n",
       "      <th>7</th>\n",
       "      <td>51</td>\n",
       "      <td>1</td>\n",
       "      <td>13</td>\n",
       "      <td>2</td>\n",
       "      <td>49</td>\n",
       "      <td>4.3</td>\n",
       "      <td>6491607</td>\n",
       "    </tr>\n",
       "    <tr>\n",
       "      <th>8</th>\n",
       "      <td>73</td>\n",
       "      <td>1</td>\n",
       "      <td>12</td>\n",
       "      <td>2</td>\n",
       "      <td>59</td>\n",
       "      <td>4.8</td>\n",
       "      <td>5152497</td>\n",
       "    </tr>\n",
       "    <tr>\n",
       "      <th>9</th>\n",
       "      <td>15</td>\n",
       "      <td>1</td>\n",
       "      <td>18</td>\n",
       "      <td>4</td>\n",
       "      <td>76</td>\n",
       "      <td>5.3</td>\n",
       "      <td>4544227</td>\n",
       "    </tr>\n",
       "  </tbody>\n",
       "</table>\n",
       "</div>"
      ],
      "text/plain": [
       "   Name  Franchise  Category  City  No_Of_Item  Order_Placed  Revenue\n",
       "0    40          1        12     0          55           5.5  5953753\n",
       "1    14          0        19     1          72           6.8  7223131\n",
       "2    16          1         5     4          25           1.9  2555379\n",
       "3    60          1        11     2          18           2.5  2175511\n",
       "4    68          1        13     3          48           4.2  4816715\n",
       "5    53          1        15     3          56           4.9  4517319\n",
       "6    17          1        18     3          58           5.0  5966635\n",
       "7    51          1        13     2          49           4.3  6491607\n",
       "8    73          1        12     2          59           4.8  5152497\n",
       "9    15          1        18     4          76           5.3  4544227"
      ]
     },
     "execution_count": 31,
     "metadata": {},
     "output_type": "execute_result"
    }
   ],
   "source": [
    "new_df.head(10)"
   ]
  },
  {
   "cell_type": "markdown",
   "id": "8cf93373",
   "metadata": {},
   "source": [
    "# Independent and dependent features separate"
   ]
  },
  {
   "cell_type": "code",
   "execution_count": 42,
   "id": "7f7d1c1c",
   "metadata": {},
   "outputs": [
    {
     "data": {
      "text/plain": [
       "array([[ 40. ,   1. ,  12. ,   0. ,  55. ,   5.5],\n",
       "       [ 14. ,   0. ,  19. ,   1. ,  72. ,   6.8],\n",
       "       [ 16. ,   1. ,   5. ,   4. ,  25. ,   1.9],\n",
       "       [ 60. ,   1. ,  11. ,   2. ,  18. ,   2.5],\n",
       "       [ 68. ,   1. ,  13. ,   3. ,  48. ,   4.2],\n",
       "       [ 53. ,   1. ,  15. ,   3. ,  56. ,   4.9],\n",
       "       [ 17. ,   1. ,  18. ,   3. ,  58. ,   5. ],\n",
       "       [ 51. ,   1. ,  13. ,   2. ,  49. ,   4.3],\n",
       "       [ 73. ,   1. ,  12. ,   2. ,  59. ,   4.8],\n",
       "       [ 15. ,   1. ,  18. ,   4. ,  76. ,   5.3],\n",
       "       [ 86. ,   0. ,   9. ,   0. ,  40. ,   3.6],\n",
       "       [ 87. ,   1. ,  13. ,   0. ,  56. ,   5. ],\n",
       "       [ 20. ,   1. ,   6. ,   0. ,  22. ,   1.6],\n",
       "       [  7. ,   1. ,   2. ,   0. ,  55. ,   4.7],\n",
       "       [ 64. ,   0. ,  14. ,   0. ,  22. ,   1.8],\n",
       "       [ 24. ,   0. ,   3. ,   0. ,  36. ,   3.1],\n",
       "       [ 22. ,   1. ,   0. ,   1. , 100. ,   8.1],\n",
       "       [ 46. ,   1. ,  19. ,   4. ,  59. ,   5.2],\n",
       "       [  4. ,   0. ,   8. ,   2. ,  25. ,   1.9],\n",
       "       [ 21. ,   1. ,   8. ,   3. ,  62. ,   5.4],\n",
       "       [  5. ,   0. ,  17. ,   3. ,  32. ,   1. ],\n",
       "       [  6. ,   1. ,  14. ,   3. ,  45. ,   3.8],\n",
       "       [ 92. ,   0. ,  13. ,   2. ,  37. ,   2.8],\n",
       "       [ 76. ,   1. ,   2. ,   2. , 110. ,   8.8],\n",
       "       [ 44. ,   0. ,  12. ,   4. ,  45. ,   3.6],\n",
       "       [ 26. ,   0. ,  18. ,   0. ,  28. ,   2.1],\n",
       "       [ 62. ,   0. ,  19. ,   0. ,  60. ,   5.3],\n",
       "       [ 31. ,   1. ,   8. ,   0. ,  55. ,   4.6],\n",
       "       [ 59. ,   0. ,  12. ,   0. ,  39. ,   3.3],\n",
       "       [ 95. ,   1. ,  18. ,   0. ,  35. ,   2.9],\n",
       "       [ 85. ,   1. ,   6. ,   0. ,  25. ,   1.9],\n",
       "       [ 30. ,   0. ,   4. ,   0. ,  37. ,   3.1],\n",
       "       [ 13. ,   0. ,   3. ,   1. ,  29. ,   2.2],\n",
       "       [ 43. ,   0. ,  19. ,   4. ,  48. ,   4. ],\n",
       "       [  1. ,   1. ,   1. ,   2. ,  41. ,   3.6],\n",
       "       [  3. ,   1. ,  11. ,   3. ,  35. ,   2.8],\n",
       "       [ 74. ,   1. ,   4. ,   3. ,  34. ,   2.6],\n",
       "       [ 61. ,   0. ,  12. ,   3. ,  64. ,   5.3],\n",
       "       [ 70. ,   0. ,  13. ,   2. ,  44. ,   3.7],\n",
       "       [ 90. ,   1. ,  15. ,   2. ,  75. ,   6.7],\n",
       "       [ 67. ,   0. ,   9. ,   4. ,  51. ,   4.4],\n",
       "       [ 63. ,   1. ,   1. ,   0. ,  55. ,   4.8],\n",
       "       [  8. ,   0. ,  12. ,   0. ,  33. ,   2.6],\n",
       "       [ 65. ,   1. ,  18. ,   0. ,  48. ,   4. ],\n",
       "       [ 12. ,   1. ,   4. ,   0. ,  45. ,   3.6],\n",
       "       [ 56. ,   1. ,  14. ,   0. ,  49. ,   4.1],\n",
       "       [ 80. ,   0. ,   7. ,   0. ,  85. ,   7.7],\n",
       "       [ 97. ,   0. ,  19. ,   0. ,  95. ,   7.1],\n",
       "       [ 79. ,   0. ,  19. ,   1. , 117. ,   8.5],\n",
       "       [ 77. ,   1. ,   3. ,   4. ,  23. ,   1.9],\n",
       "       [  2. ,   0. ,  13. ,   2. ,  38. ,   3.1],\n",
       "       [ 69. ,   1. ,   8. ,   3. ,  27. ,   1.6],\n",
       "       [ 36. ,   0. ,  18. ,   3. ,  61. ,   5.4],\n",
       "       [ 39. ,   1. ,  12. ,   3. ,  55. ,   4.5],\n",
       "       [ 54. ,   0. ,  14. ,   2. ,  79. ,   6.8],\n",
       "       [ 93. ,   1. ,  12. ,   2. ,  27. ,   2.1],\n",
       "       [ 28. ,   1. ,  15. ,   4. ,  39. ,   3.1],\n",
       "       [ 72. ,   1. ,   4. ,   0. ,  36. ,   2.9],\n",
       "       [ 50. ,   0. ,  14. ,   0. ,  46. ,   3.4],\n",
       "       [  0. ,   0. ,  12. ,   0. ,  38. ,   3. ],\n",
       "       [ 58. ,   0. ,  13. ,   0. ,  55. ,   4.2],\n",
       "       [ 34. ,   1. ,  11. ,   0. ,  57. ,   5.1],\n",
       "       [ 75. ,   0. ,  11. ,   0. ,  23. ,   1.5],\n",
       "       [ 71. ,   1. ,  19. ,   0. ,  32. ,   2.4],\n",
       "       [  9. ,   0. ,   7. ,   1. ,  22. ,   1.6],\n",
       "       [ 48. ,   1. ,   8. ,   4. ,  23. ,   1.7],\n",
       "       [ 82. ,   1. ,  18. ,   2. ,  40. ,   3.8],\n",
       "       [ 32. ,   1. ,  14. ,   3. ,  44. ,   3.6],\n",
       "       [ 23. ,   0. ,  16. ,   3. ,  39. ,   3.3],\n",
       "       [ 66. ,   0. ,  11. ,   3. ,  47. ,   3.8],\n",
       "       [ 18. ,   0. ,  19. ,   2. ,  49. ,   4. ],\n",
       "       [ 94. ,   1. ,   7. ,   2. ,  31. ,   2.4],\n",
       "       [ 42. ,   0. ,  14. ,   4. ,  39. ,   3.1],\n",
       "       [ 52. ,   1. ,  19. ,   0. ,  58. ,   5.1],\n",
       "       [ 29. ,   1. ,   2. ,   0. ,  51. ,   4.3],\n",
       "       [ 49. ,   1. ,  19. ,   0. ,  27. ,   1.7],\n",
       "       [ 81. ,   1. ,  11. ,   0. ,  42. ,   3.5],\n",
       "       [ 91. ,   0. ,  19. ,   0. ,  69. ,   6.1],\n",
       "       [ 11. ,   0. ,  19. ,   0. ,  42. ,   3.5],\n",
       "       [ 38. ,   0. ,   4. ,   1. ,  43. ,   3.9],\n",
       "       [ 45. ,   1. ,   8. ,   4. ,  49. ,   3.6],\n",
       "       [ 33. ,   0. ,  10. ,   2. ,  51. ,   5.7],\n",
       "       [ 89. ,   1. ,   5. ,   3. ,  50. ,   3.9],\n",
       "       [ 83. ,   0. ,  13. ,   3. ,  80. ,   7.2],\n",
       "       [ 37. ,   1. ,  15. ,   3. ,  40. ,   3.1],\n",
       "       [ 57. ,   1. ,  19. ,   2. ,  67. ,   5.8],\n",
       "       [ 10. ,   1. ,   4. ,   2. ,  25. ,   1.9],\n",
       "       [ 88. ,   0. ,  13. ,   4. ,  29. ,   2.1],\n",
       "       [ 27. ,   0. ,   8. ,   0. ,  40. ,   3.3],\n",
       "       [ 25. ,   0. ,  12. ,   0. ,  27. ,   1.9],\n",
       "       [ 78. ,   1. ,  19. ,   0. ,  72. ,   6.5],\n",
       "       [ 84. ,   0. ,  16. ,   0. ,  50. ,   3.3],\n",
       "       [ 19. ,   1. ,   3. ,   0. ,  42. ,   3.5],\n",
       "       [ 96. ,   0. ,  11. ,   0. ,  19. ,   1.1],\n",
       "       [ 47. ,   1. ,  19. ,   0. ,  75. ,   6.3],\n",
       "       [ 35. ,   1. ,  19. ,   1. ,  77. ,   6.2],\n",
       "       [ 41. ,   1. ,  17. ,   4. ,  25. ,   2.1],\n",
       "       [ 55. ,   0. ,   2. ,   2. ,  50. ,   4.4]])"
      ]
     },
     "execution_count": 42,
     "metadata": {},
     "output_type": "execute_result"
    }
   ],
   "source": [
    "X = new_df.iloc[: , :-1].values\n",
    "X"
   ]
  },
  {
   "cell_type": "code",
   "execution_count": 44,
   "id": "82b8d271",
   "metadata": {},
   "outputs": [
    {
     "data": {
      "text/plain": [
       "array([[5953753],\n",
       "       [7223131],\n",
       "       [2555379],\n",
       "       [2175511],\n",
       "       [4816715],\n",
       "       [4517319],\n",
       "       [5966635],\n",
       "       [6491607],\n",
       "       [5152497],\n",
       "       [4544227],\n",
       "       [3945135],\n",
       "       [3861370],\n",
       "       [2234634],\n",
       "       [5107746],\n",
       "       [1099097],\n",
       "       [3918918],\n",
       "       [7513524],\n",
       "       [4937526],\n",
       "       [1521934],\n",
       "       [5025735],\n",
       "       [ 849870],\n",
       "       [4956086],\n",
       "       [1999068],\n",
       "       [7904084],\n",
       "       [2778621],\n",
       "       [2967425],\n",
       "       [6135276],\n",
       "       [7705945],\n",
       "       [2447890],\n",
       "       [2408199],\n",
       "       [2358644],\n",
       "       [3261924],\n",
       "       [2371202],\n",
       "       [4100886],\n",
       "       [3903884],\n",
       "       [3028267],\n",
       "       [2740687],\n",
       "       [5461700],\n",
       "       [3818055],\n",
       "       [6836483],\n",
       "       [4554237],\n",
       "       [4952255],\n",
       "       [2732645],\n",
       "       [4264176],\n",
       "       [3752885],\n",
       "       [4250758],\n",
       "       [7865428],\n",
       "       [7201784],\n",
       "       [8630682],\n",
       "       [2156098],\n",
       "       [3273041],\n",
       "       [1763231],\n",
       "       [5595267],\n",
       "       [4651866],\n",
       "       [6941173],\n",
       "       [2390534],\n",
       "       [3258837],\n",
       "       [3004429],\n",
       "       [3600467],\n",
       "       [3164972],\n",
       "       [4350573],\n",
       "       [5286212],\n",
       "       [1619683],\n",
       "       [2551252],\n",
       "       [1756069],\n",
       "       [1882131],\n",
       "       [4052733],\n",
       "       [3836721],\n",
       "       [3452382],\n",
       "       [3982767],\n",
       "       [4136425],\n",
       "       [2525375],\n",
       "       [3347767],\n",
       "       [5500818],\n",
       "       [4590423],\n",
       "       [1904842],\n",
       "       [3871344],\n",
       "       [6313221],\n",
       "       [3727364],\n",
       "       [4066618],\n",
       "       [3807496],\n",
       "       [5966193],\n",
       "       [4250553],\n",
       "       [7495092],\n",
       "       [3351383],\n",
       "       [5906596],\n",
       "       [2025297],\n",
       "       [2364478],\n",
       "       [3426169],\n",
       "       [2083447],\n",
       "       [6782425],\n",
       "       [3410878],\n",
       "       [3753720],\n",
       "       [1270499],\n",
       "       [6412623],\n",
       "       [6694797],\n",
       "       [2344689],\n",
       "       [4567678]], dtype=int64)"
      ]
     },
     "execution_count": 44,
     "metadata": {},
     "output_type": "execute_result"
    }
   ],
   "source": [
    "y = new_df.iloc[:,6:].values\n",
    "y"
   ]
  },
  {
   "cell_type": "markdown",
   "id": "7b26b393",
   "metadata": {},
   "source": [
    "# Standarized the data with the help of Standart Scaler "
   ]
  },
  {
   "cell_type": "code",
   "execution_count": 47,
   "id": "6ebfb097",
   "metadata": {},
   "outputs": [],
   "source": [
    "from sklearn.preprocessing import StandardScaler\n",
    "\n",
    "scale = StandardScaler()\n",
    "X = scale.fit_transform(X)"
   ]
  },
  {
   "cell_type": "markdown",
   "id": "9ef7542a",
   "metadata": {},
   "source": [
    "# Using PCA for feature selection"
   ]
  },
  {
   "cell_type": "code",
   "execution_count": 50,
   "id": "67496d18",
   "metadata": {},
   "outputs": [
    {
     "data": {
      "text/html": [
       "<div>\n",
       "<style scoped>\n",
       "    .dataframe tbody tr th:only-of-type {\n",
       "        vertical-align: middle;\n",
       "    }\n",
       "\n",
       "    .dataframe tbody tr th {\n",
       "        vertical-align: top;\n",
       "    }\n",
       "\n",
       "    .dataframe thead th {\n",
       "        text-align: right;\n",
       "    }\n",
       "</style>\n",
       "<table border=\"1\" class=\"dataframe\">\n",
       "  <thead>\n",
       "    <tr style=\"text-align: right;\">\n",
       "      <th></th>\n",
       "      <th>0</th>\n",
       "      <th>1</th>\n",
       "      <th>2</th>\n",
       "      <th>3</th>\n",
       "    </tr>\n",
       "  </thead>\n",
       "  <tbody>\n",
       "    <tr>\n",
       "      <th>0</th>\n",
       "      <td>0.875718</td>\n",
       "      <td>0.384003</td>\n",
       "      <td>-0.955723</td>\n",
       "      <td>-0.005904</td>\n",
       "    </tr>\n",
       "    <tr>\n",
       "      <th>1</th>\n",
       "      <td>2.011261</td>\n",
       "      <td>-0.868239</td>\n",
       "      <td>0.408602</td>\n",
       "      <td>-1.845004</td>\n",
       "    </tr>\n",
       "    <tr>\n",
       "      <th>2</th>\n",
       "      <td>-2.217953</td>\n",
       "      <td>1.829993</td>\n",
       "      <td>0.535943</td>\n",
       "      <td>-0.503983</td>\n",
       "    </tr>\n",
       "    <tr>\n",
       "      <th>3</th>\n",
       "      <td>-1.502954</td>\n",
       "      <td>0.472936</td>\n",
       "      <td>0.260355</td>\n",
       "      <td>1.087757</td>\n",
       "    </tr>\n",
       "    <tr>\n",
       "      <th>4</th>\n",
       "      <td>0.270641</td>\n",
       "      <td>0.930543</td>\n",
       "      <td>0.781683</td>\n",
       "      <td>0.867136</td>\n",
       "    </tr>\n",
       "    <tr>\n",
       "      <th>...</th>\n",
       "      <td>...</td>\n",
       "      <td>...</td>\n",
       "      <td>...</td>\n",
       "      <td>...</td>\n",
       "    </tr>\n",
       "    <tr>\n",
       "      <th>93</th>\n",
       "      <td>-1.622901</td>\n",
       "      <td>-2.012213</td>\n",
       "      <td>-0.401082</td>\n",
       "      <td>1.624352</td>\n",
       "    </tr>\n",
       "    <tr>\n",
       "      <th>94</th>\n",
       "      <td>2.232704</td>\n",
       "      <td>0.045601</td>\n",
       "      <td>-0.267590</td>\n",
       "      <td>0.079391</td>\n",
       "    </tr>\n",
       "    <tr>\n",
       "      <th>95</th>\n",
       "      <td>2.118368</td>\n",
       "      <td>0.454246</td>\n",
       "      <td>0.218193</td>\n",
       "      <td>-0.361085</td>\n",
       "    </tr>\n",
       "    <tr>\n",
       "      <th>96</th>\n",
       "      <td>-1.393860</td>\n",
       "      <td>0.844285</td>\n",
       "      <td>1.926705</td>\n",
       "      <td>0.464008</td>\n",
       "    </tr>\n",
       "    <tr>\n",
       "      <th>97</th>\n",
       "      <td>-0.143147</td>\n",
       "      <td>0.003036</td>\n",
       "      <td>-0.787634</td>\n",
       "      <td>-0.533484</td>\n",
       "    </tr>\n",
       "  </tbody>\n",
       "</table>\n",
       "<p>98 rows × 4 columns</p>\n",
       "</div>"
      ],
      "text/plain": [
       "           0         1         2         3\n",
       "0   0.875718  0.384003 -0.955723 -0.005904\n",
       "1   2.011261 -0.868239  0.408602 -1.845004\n",
       "2  -2.217953  1.829993  0.535943 -0.503983\n",
       "3  -1.502954  0.472936  0.260355  1.087757\n",
       "4   0.270641  0.930543  0.781683  0.867136\n",
       "..       ...       ...       ...       ...\n",
       "93 -1.622901 -2.012213 -0.401082  1.624352\n",
       "94  2.232704  0.045601 -0.267590  0.079391\n",
       "95  2.118368  0.454246  0.218193 -0.361085\n",
       "96 -1.393860  0.844285  1.926705  0.464008\n",
       "97 -0.143147  0.003036 -0.787634 -0.533484\n",
       "\n",
       "[98 rows x 4 columns]"
      ]
     },
     "execution_count": 50,
     "metadata": {},
     "output_type": "execute_result"
    }
   ],
   "source": [
    "from sklearn.decomposition import PCA\n",
    "pca = PCA(n_components = 4)\n",
    "X_pca = pca.fit_transform(X)\n",
    "new_df1 = pd.DataFrame(X_pca)\n",
    "new_df1"
   ]
  },
  {
   "cell_type": "markdown",
   "id": "64dcaa7b",
   "metadata": {},
   "source": [
    "# Split the dataset into Train and test"
   ]
  },
  {
   "cell_type": "code",
   "execution_count": 52,
   "id": "bab28331",
   "metadata": {},
   "outputs": [],
   "source": [
    "from sklearn.model_selection import train_test_split\n",
    "\n",
    "x_train,x_test,y_train,y_test = train_test_split(new_df1 ,y , test_size = 0.30 , random_state =2) "
   ]
  },
  {
   "cell_type": "code",
   "execution_count": 58,
   "id": "86226433",
   "metadata": {},
   "outputs": [
    {
     "name": "stdout",
     "output_type": "stream",
     "text": [
      "x_train:  (68, 4)\n",
      "y_train:  (68, 1)\n"
     ]
    }
   ],
   "source": [
    "print(\"x_train: \" , x_train.shape)\n",
    "print(\"y_train: \" , y_train.shape)"
   ]
  },
  {
   "cell_type": "code",
   "execution_count": 59,
   "id": "cdee65bb",
   "metadata": {},
   "outputs": [
    {
     "name": "stdout",
     "output_type": "stream",
     "text": [
      "x_test:  (30, 4)\n",
      "y_test:  (30, 1)\n"
     ]
    }
   ],
   "source": [
    "print(\"x_test: \" , x_test.shape)\n",
    "print(\"y_test: \" , y_test.shape)"
   ]
  },
  {
   "cell_type": "markdown",
   "id": "2f966cee",
   "metadata": {},
   "source": [
    "# Training Linear Regression Model on the training dataset"
   ]
  },
  {
   "cell_type": "code",
   "execution_count": 85,
   "id": "1153f2cc",
   "metadata": {},
   "outputs": [
    {
     "data": {
      "text/html": [
       "<style>#sk-container-id-7 {color: black;}#sk-container-id-7 pre{padding: 0;}#sk-container-id-7 div.sk-toggleable {background-color: white;}#sk-container-id-7 label.sk-toggleable__label {cursor: pointer;display: block;width: 100%;margin-bottom: 0;padding: 0.3em;box-sizing: border-box;text-align: center;}#sk-container-id-7 label.sk-toggleable__label-arrow:before {content: \"▸\";float: left;margin-right: 0.25em;color: #696969;}#sk-container-id-7 label.sk-toggleable__label-arrow:hover:before {color: black;}#sk-container-id-7 div.sk-estimator:hover label.sk-toggleable__label-arrow:before {color: black;}#sk-container-id-7 div.sk-toggleable__content {max-height: 0;max-width: 0;overflow: hidden;text-align: left;background-color: #f0f8ff;}#sk-container-id-7 div.sk-toggleable__content pre {margin: 0.2em;color: black;border-radius: 0.25em;background-color: #f0f8ff;}#sk-container-id-7 input.sk-toggleable__control:checked~div.sk-toggleable__content {max-height: 200px;max-width: 100%;overflow: auto;}#sk-container-id-7 input.sk-toggleable__control:checked~label.sk-toggleable__label-arrow:before {content: \"▾\";}#sk-container-id-7 div.sk-estimator input.sk-toggleable__control:checked~label.sk-toggleable__label {background-color: #d4ebff;}#sk-container-id-7 div.sk-label input.sk-toggleable__control:checked~label.sk-toggleable__label {background-color: #d4ebff;}#sk-container-id-7 input.sk-hidden--visually {border: 0;clip: rect(1px 1px 1px 1px);clip: rect(1px, 1px, 1px, 1px);height: 1px;margin: -1px;overflow: hidden;padding: 0;position: absolute;width: 1px;}#sk-container-id-7 div.sk-estimator {font-family: monospace;background-color: #f0f8ff;border: 1px dotted black;border-radius: 0.25em;box-sizing: border-box;margin-bottom: 0.5em;}#sk-container-id-7 div.sk-estimator:hover {background-color: #d4ebff;}#sk-container-id-7 div.sk-parallel-item::after {content: \"\";width: 100%;border-bottom: 1px solid gray;flex-grow: 1;}#sk-container-id-7 div.sk-label:hover label.sk-toggleable__label {background-color: #d4ebff;}#sk-container-id-7 div.sk-serial::before {content: \"\";position: absolute;border-left: 1px solid gray;box-sizing: border-box;top: 0;bottom: 0;left: 50%;z-index: 0;}#sk-container-id-7 div.sk-serial {display: flex;flex-direction: column;align-items: center;background-color: white;padding-right: 0.2em;padding-left: 0.2em;position: relative;}#sk-container-id-7 div.sk-item {position: relative;z-index: 1;}#sk-container-id-7 div.sk-parallel {display: flex;align-items: stretch;justify-content: center;background-color: white;position: relative;}#sk-container-id-7 div.sk-item::before, #sk-container-id-7 div.sk-parallel-item::before {content: \"\";position: absolute;border-left: 1px solid gray;box-sizing: border-box;top: 0;bottom: 0;left: 50%;z-index: -1;}#sk-container-id-7 div.sk-parallel-item {display: flex;flex-direction: column;z-index: 1;position: relative;background-color: white;}#sk-container-id-7 div.sk-parallel-item:first-child::after {align-self: flex-end;width: 50%;}#sk-container-id-7 div.sk-parallel-item:last-child::after {align-self: flex-start;width: 50%;}#sk-container-id-7 div.sk-parallel-item:only-child::after {width: 0;}#sk-container-id-7 div.sk-dashed-wrapped {border: 1px dashed gray;margin: 0 0.4em 0.5em 0.4em;box-sizing: border-box;padding-bottom: 0.4em;background-color: white;}#sk-container-id-7 div.sk-label label {font-family: monospace;font-weight: bold;display: inline-block;line-height: 1.2em;}#sk-container-id-7 div.sk-label-container {text-align: center;}#sk-container-id-7 div.sk-container {/* jupyter's `normalize.less` sets `[hidden] { display: none; }` but bootstrap.min.css set `[hidden] { display: none !important; }` so we also need the `!important` here to be able to override the default hidden behavior on the sphinx rendered scikit-learn.org. See: https://github.com/scikit-learn/scikit-learn/issues/21755 */display: inline-block !important;position: relative;}#sk-container-id-7 div.sk-text-repr-fallback {display: none;}</style><div id=\"sk-container-id-7\" class=\"sk-top-container\"><div class=\"sk-text-repr-fallback\"><pre>LinearRegression()</pre><b>In a Jupyter environment, please rerun this cell to show the HTML representation or trust the notebook. <br />On GitHub, the HTML representation is unable to render, please try loading this page with nbviewer.org.</b></div><div class=\"sk-container\" hidden><div class=\"sk-item\"><div class=\"sk-estimator sk-toggleable\"><input class=\"sk-toggleable__control sk-hidden--visually\" id=\"sk-estimator-id-7\" type=\"checkbox\" checked><label for=\"sk-estimator-id-7\" class=\"sk-toggleable__label sk-toggleable__label-arrow\">LinearRegression</label><div class=\"sk-toggleable__content\"><pre>LinearRegression()</pre></div></div></div></div></div>"
      ],
      "text/plain": [
       "LinearRegression()"
      ]
     },
     "execution_count": 85,
     "metadata": {},
     "output_type": "execute_result"
    }
   ],
   "source": [
    "from sklearn.linear_model import LinearRegression\n",
    "LR= LinearRegression()\n",
    "LR.fit(x_train,y_train)"
   ]
  },
  {
   "cell_type": "markdown",
   "id": "3797a4b5",
   "metadata": {},
   "source": [
    "# Predict the test set"
   ]
  },
  {
   "cell_type": "code",
   "execution_count": 86,
   "id": "6e1c1d9d",
   "metadata": {},
   "outputs": [
    {
     "name": "stdout",
     "output_type": "stream",
     "text": [
      "[[2815871.91211962]\n",
      " [3385706.67080531]\n",
      " [2297474.59460621]\n",
      " [9542042.89859454]\n",
      " [8851164.07290465]\n",
      " [5032453.99417653]\n",
      " [2007898.5315933 ]\n",
      " [2284090.93476601]\n",
      " [9497287.64558578]\n",
      " [5146979.68498945]\n",
      " [4573780.51435616]\n",
      " [6773846.54357948]\n",
      " [6159053.09892672]\n",
      " [1834550.1094586 ]\n",
      " [5525175.4921661 ]\n",
      " [3972740.39164163]\n",
      " [2124852.42147089]\n",
      " [5069851.42588048]\n",
      " [1966396.87949288]\n",
      " [4060247.5612266 ]\n",
      " [5274707.29745344]\n",
      " [3927913.66845681]\n",
      " [2278323.07965187]\n",
      " [3225908.39366114]\n",
      " [5003420.45095509]\n",
      " [4742698.52221629]\n",
      " [3871968.60548938]\n",
      " [4306409.49055217]\n",
      " [1699562.26373515]\n",
      " [6634012.40568281]]\n"
     ]
    }
   ],
   "source": [
    "pred1 =LR.predict(x_test)\n",
    "print(pred1)"
   ]
  },
  {
   "cell_type": "code",
   "execution_count": 87,
   "id": "2c131fed",
   "metadata": {},
   "outputs": [
    {
     "data": {
      "text/plain": [
       "0.8411934550277665"
      ]
     },
     "execution_count": 87,
     "metadata": {},
     "output_type": "execute_result"
    }
   ],
   "source": [
    "# find accuracy with the help of R2 Score\n",
    "\n",
    "from sklearn.metrics import r2_score\n",
    "\n",
    "score1 = r2_score(y_test , pred1)\n",
    "score1"
   ]
  },
  {
   "cell_type": "markdown",
   "id": "5a43883c",
   "metadata": {},
   "source": [
    "# 2nd Model Decision Tree"
   ]
  },
  {
   "cell_type": "code",
   "execution_count": 88,
   "id": "17708e8e",
   "metadata": {},
   "outputs": [
    {
     "data": {
      "text/html": [
       "<style>#sk-container-id-8 {color: black;}#sk-container-id-8 pre{padding: 0;}#sk-container-id-8 div.sk-toggleable {background-color: white;}#sk-container-id-8 label.sk-toggleable__label {cursor: pointer;display: block;width: 100%;margin-bottom: 0;padding: 0.3em;box-sizing: border-box;text-align: center;}#sk-container-id-8 label.sk-toggleable__label-arrow:before {content: \"▸\";float: left;margin-right: 0.25em;color: #696969;}#sk-container-id-8 label.sk-toggleable__label-arrow:hover:before {color: black;}#sk-container-id-8 div.sk-estimator:hover label.sk-toggleable__label-arrow:before {color: black;}#sk-container-id-8 div.sk-toggleable__content {max-height: 0;max-width: 0;overflow: hidden;text-align: left;background-color: #f0f8ff;}#sk-container-id-8 div.sk-toggleable__content pre {margin: 0.2em;color: black;border-radius: 0.25em;background-color: #f0f8ff;}#sk-container-id-8 input.sk-toggleable__control:checked~div.sk-toggleable__content {max-height: 200px;max-width: 100%;overflow: auto;}#sk-container-id-8 input.sk-toggleable__control:checked~label.sk-toggleable__label-arrow:before {content: \"▾\";}#sk-container-id-8 div.sk-estimator input.sk-toggleable__control:checked~label.sk-toggleable__label {background-color: #d4ebff;}#sk-container-id-8 div.sk-label input.sk-toggleable__control:checked~label.sk-toggleable__label {background-color: #d4ebff;}#sk-container-id-8 input.sk-hidden--visually {border: 0;clip: rect(1px 1px 1px 1px);clip: rect(1px, 1px, 1px, 1px);height: 1px;margin: -1px;overflow: hidden;padding: 0;position: absolute;width: 1px;}#sk-container-id-8 div.sk-estimator {font-family: monospace;background-color: #f0f8ff;border: 1px dotted black;border-radius: 0.25em;box-sizing: border-box;margin-bottom: 0.5em;}#sk-container-id-8 div.sk-estimator:hover {background-color: #d4ebff;}#sk-container-id-8 div.sk-parallel-item::after {content: \"\";width: 100%;border-bottom: 1px solid gray;flex-grow: 1;}#sk-container-id-8 div.sk-label:hover label.sk-toggleable__label {background-color: #d4ebff;}#sk-container-id-8 div.sk-serial::before {content: \"\";position: absolute;border-left: 1px solid gray;box-sizing: border-box;top: 0;bottom: 0;left: 50%;z-index: 0;}#sk-container-id-8 div.sk-serial {display: flex;flex-direction: column;align-items: center;background-color: white;padding-right: 0.2em;padding-left: 0.2em;position: relative;}#sk-container-id-8 div.sk-item {position: relative;z-index: 1;}#sk-container-id-8 div.sk-parallel {display: flex;align-items: stretch;justify-content: center;background-color: white;position: relative;}#sk-container-id-8 div.sk-item::before, #sk-container-id-8 div.sk-parallel-item::before {content: \"\";position: absolute;border-left: 1px solid gray;box-sizing: border-box;top: 0;bottom: 0;left: 50%;z-index: -1;}#sk-container-id-8 div.sk-parallel-item {display: flex;flex-direction: column;z-index: 1;position: relative;background-color: white;}#sk-container-id-8 div.sk-parallel-item:first-child::after {align-self: flex-end;width: 50%;}#sk-container-id-8 div.sk-parallel-item:last-child::after {align-self: flex-start;width: 50%;}#sk-container-id-8 div.sk-parallel-item:only-child::after {width: 0;}#sk-container-id-8 div.sk-dashed-wrapped {border: 1px dashed gray;margin: 0 0.4em 0.5em 0.4em;box-sizing: border-box;padding-bottom: 0.4em;background-color: white;}#sk-container-id-8 div.sk-label label {font-family: monospace;font-weight: bold;display: inline-block;line-height: 1.2em;}#sk-container-id-8 div.sk-label-container {text-align: center;}#sk-container-id-8 div.sk-container {/* jupyter's `normalize.less` sets `[hidden] { display: none; }` but bootstrap.min.css set `[hidden] { display: none !important; }` so we also need the `!important` here to be able to override the default hidden behavior on the sphinx rendered scikit-learn.org. See: https://github.com/scikit-learn/scikit-learn/issues/21755 */display: inline-block !important;position: relative;}#sk-container-id-8 div.sk-text-repr-fallback {display: none;}</style><div id=\"sk-container-id-8\" class=\"sk-top-container\"><div class=\"sk-text-repr-fallback\"><pre>DecisionTreeRegressor()</pre><b>In a Jupyter environment, please rerun this cell to show the HTML representation or trust the notebook. <br />On GitHub, the HTML representation is unable to render, please try loading this page with nbviewer.org.</b></div><div class=\"sk-container\" hidden><div class=\"sk-item\"><div class=\"sk-estimator sk-toggleable\"><input class=\"sk-toggleable__control sk-hidden--visually\" id=\"sk-estimator-id-8\" type=\"checkbox\" checked><label for=\"sk-estimator-id-8\" class=\"sk-toggleable__label sk-toggleable__label-arrow\">DecisionTreeRegressor</label><div class=\"sk-toggleable__content\"><pre>DecisionTreeRegressor()</pre></div></div></div></div></div>"
      ],
      "text/plain": [
       "DecisionTreeRegressor()"
      ]
     },
     "execution_count": 88,
     "metadata": {},
     "output_type": "execute_result"
    }
   ],
   "source": [
    "from sklearn.tree import DecisionTreeRegressor\n",
    "\n",
    "DT = DecisionTreeRegressor()\n",
    "DT.fit(x_train,y_train)"
   ]
  },
  {
   "cell_type": "code",
   "execution_count": 89,
   "id": "6217f857",
   "metadata": {},
   "outputs": [
    {
     "data": {
      "text/plain": [
       "array([3004429., 2732645., 1904842., 7495092., 7865428., 5286212.,\n",
       "       1763231., 2732645., 7865428., 3945135., 5286212., 6836483.,\n",
       "       6941173., 1270499., 5461700., 2778621., 2344689., 5286212.,\n",
       "       1904842., 4052733., 4250758., 3752885., 2344689., 3945135.,\n",
       "       5966635., 3836721., 3982767., 3945135., 2083447., 6694797.])"
      ]
     },
     "execution_count": 89,
     "metadata": {},
     "output_type": "execute_result"
    }
   ],
   "source": [
    "pred2 = DT.predict(x_test)\n",
    "pred2"
   ]
  },
  {
   "cell_type": "code",
   "execution_count": 90,
   "id": "12357db8",
   "metadata": {},
   "outputs": [
    {
     "data": {
      "text/plain": [
       "0.8245567846594587"
      ]
     },
     "execution_count": 90,
     "metadata": {},
     "output_type": "execute_result"
    }
   ],
   "source": [
    "score2 = r2_score(y_test, pred2)\n",
    "score2"
   ]
  },
  {
   "cell_type": "markdown",
   "id": "a81c1927",
   "metadata": {},
   "source": [
    "# 3rd Model Random Forest"
   ]
  },
  {
   "cell_type": "code",
   "execution_count": 91,
   "id": "d1166ddb",
   "metadata": {},
   "outputs": [
    {
     "name": "stderr",
     "output_type": "stream",
     "text": [
      "C:\\Users\\admin\\anaconda3\\Lib\\site-packages\\sklearn\\base.py:1151: DataConversionWarning: A column-vector y was passed when a 1d array was expected. Please change the shape of y to (n_samples,), for example using ravel().\n",
      "  return fit_method(estimator, *args, **kwargs)\n"
     ]
    },
    {
     "data": {
      "text/html": [
       "<style>#sk-container-id-9 {color: black;}#sk-container-id-9 pre{padding: 0;}#sk-container-id-9 div.sk-toggleable {background-color: white;}#sk-container-id-9 label.sk-toggleable__label {cursor: pointer;display: block;width: 100%;margin-bottom: 0;padding: 0.3em;box-sizing: border-box;text-align: center;}#sk-container-id-9 label.sk-toggleable__label-arrow:before {content: \"▸\";float: left;margin-right: 0.25em;color: #696969;}#sk-container-id-9 label.sk-toggleable__label-arrow:hover:before {color: black;}#sk-container-id-9 div.sk-estimator:hover label.sk-toggleable__label-arrow:before {color: black;}#sk-container-id-9 div.sk-toggleable__content {max-height: 0;max-width: 0;overflow: hidden;text-align: left;background-color: #f0f8ff;}#sk-container-id-9 div.sk-toggleable__content pre {margin: 0.2em;color: black;border-radius: 0.25em;background-color: #f0f8ff;}#sk-container-id-9 input.sk-toggleable__control:checked~div.sk-toggleable__content {max-height: 200px;max-width: 100%;overflow: auto;}#sk-container-id-9 input.sk-toggleable__control:checked~label.sk-toggleable__label-arrow:before {content: \"▾\";}#sk-container-id-9 div.sk-estimator input.sk-toggleable__control:checked~label.sk-toggleable__label {background-color: #d4ebff;}#sk-container-id-9 div.sk-label input.sk-toggleable__control:checked~label.sk-toggleable__label {background-color: #d4ebff;}#sk-container-id-9 input.sk-hidden--visually {border: 0;clip: rect(1px 1px 1px 1px);clip: rect(1px, 1px, 1px, 1px);height: 1px;margin: -1px;overflow: hidden;padding: 0;position: absolute;width: 1px;}#sk-container-id-9 div.sk-estimator {font-family: monospace;background-color: #f0f8ff;border: 1px dotted black;border-radius: 0.25em;box-sizing: border-box;margin-bottom: 0.5em;}#sk-container-id-9 div.sk-estimator:hover {background-color: #d4ebff;}#sk-container-id-9 div.sk-parallel-item::after {content: \"\";width: 100%;border-bottom: 1px solid gray;flex-grow: 1;}#sk-container-id-9 div.sk-label:hover label.sk-toggleable__label {background-color: #d4ebff;}#sk-container-id-9 div.sk-serial::before {content: \"\";position: absolute;border-left: 1px solid gray;box-sizing: border-box;top: 0;bottom: 0;left: 50%;z-index: 0;}#sk-container-id-9 div.sk-serial {display: flex;flex-direction: column;align-items: center;background-color: white;padding-right: 0.2em;padding-left: 0.2em;position: relative;}#sk-container-id-9 div.sk-item {position: relative;z-index: 1;}#sk-container-id-9 div.sk-parallel {display: flex;align-items: stretch;justify-content: center;background-color: white;position: relative;}#sk-container-id-9 div.sk-item::before, #sk-container-id-9 div.sk-parallel-item::before {content: \"\";position: absolute;border-left: 1px solid gray;box-sizing: border-box;top: 0;bottom: 0;left: 50%;z-index: -1;}#sk-container-id-9 div.sk-parallel-item {display: flex;flex-direction: column;z-index: 1;position: relative;background-color: white;}#sk-container-id-9 div.sk-parallel-item:first-child::after {align-self: flex-end;width: 50%;}#sk-container-id-9 div.sk-parallel-item:last-child::after {align-self: flex-start;width: 50%;}#sk-container-id-9 div.sk-parallel-item:only-child::after {width: 0;}#sk-container-id-9 div.sk-dashed-wrapped {border: 1px dashed gray;margin: 0 0.4em 0.5em 0.4em;box-sizing: border-box;padding-bottom: 0.4em;background-color: white;}#sk-container-id-9 div.sk-label label {font-family: monospace;font-weight: bold;display: inline-block;line-height: 1.2em;}#sk-container-id-9 div.sk-label-container {text-align: center;}#sk-container-id-9 div.sk-container {/* jupyter's `normalize.less` sets `[hidden] { display: none; }` but bootstrap.min.css set `[hidden] { display: none !important; }` so we also need the `!important` here to be able to override the default hidden behavior on the sphinx rendered scikit-learn.org. See: https://github.com/scikit-learn/scikit-learn/issues/21755 */display: inline-block !important;position: relative;}#sk-container-id-9 div.sk-text-repr-fallback {display: none;}</style><div id=\"sk-container-id-9\" class=\"sk-top-container\"><div class=\"sk-text-repr-fallback\"><pre>RandomForestRegressor()</pre><b>In a Jupyter environment, please rerun this cell to show the HTML representation or trust the notebook. <br />On GitHub, the HTML representation is unable to render, please try loading this page with nbviewer.org.</b></div><div class=\"sk-container\" hidden><div class=\"sk-item\"><div class=\"sk-estimator sk-toggleable\"><input class=\"sk-toggleable__control sk-hidden--visually\" id=\"sk-estimator-id-9\" type=\"checkbox\" checked><label for=\"sk-estimator-id-9\" class=\"sk-toggleable__label sk-toggleable__label-arrow\">RandomForestRegressor</label><div class=\"sk-toggleable__content\"><pre>RandomForestRegressor()</pre></div></div></div></div></div>"
      ],
      "text/plain": [
       "RandomForestRegressor()"
      ]
     },
     "execution_count": 91,
     "metadata": {},
     "output_type": "execute_result"
    }
   ],
   "source": [
    "from sklearn.ensemble import RandomForestRegressor\n",
    "\n",
    "RF = RandomForestRegressor()\n",
    "RF.fit(x_train,y_train)"
   ]
  },
  {
   "cell_type": "code",
   "execution_count": 92,
   "id": "1d6cec49",
   "metadata": {},
   "outputs": [
    {
     "data": {
      "text/plain": [
       "array([2469230.5 , 3487026.93, 2490504.75, 7402768.39, 7502171.28,\n",
       "       5168510.84, 2015512.21, 2974881.32, 7389248.96, 3922114.22,\n",
       "       4539115.39, 6742641.06, 6810603.86, 1903498.35, 5284064.46,\n",
       "       3518212.14, 2073759.1 , 5255327.53, 2250261.91, 4398092.23,\n",
       "       5058191.45, 3602671.95, 2197421.09, 3167320.58, 5424585.52,\n",
       "       3857908.32, 3410130.94, 3912311.64, 1822087.23, 6695092.54])"
      ]
     },
     "execution_count": 92,
     "metadata": {},
     "output_type": "execute_result"
    }
   ],
   "source": [
    "pred3 = RF.predict(x_test)\n",
    "pred3"
   ]
  },
  {
   "cell_type": "code",
   "execution_count": 93,
   "id": "818b2030",
   "metadata": {},
   "outputs": [
    {
     "data": {
      "text/plain": [
       "0.8478724794713054"
      ]
     },
     "execution_count": 93,
     "metadata": {},
     "output_type": "execute_result"
    }
   ],
   "source": [
    "score3 = r2_score(y_test,pred3)\n",
    "score3"
   ]
  },
  {
   "cell_type": "markdown",
   "id": "6a7281cb",
   "metadata": {},
   "source": [
    "# 4th Model Gradient Boosting"
   ]
  },
  {
   "cell_type": "code",
   "execution_count": 94,
   "id": "514f2a8d",
   "metadata": {},
   "outputs": [
    {
     "name": "stderr",
     "output_type": "stream",
     "text": [
      "C:\\Users\\admin\\anaconda3\\Lib\\site-packages\\sklearn\\ensemble\\_gb.py:424: DataConversionWarning: A column-vector y was passed when a 1d array was expected. Please change the shape of y to (n_samples, ), for example using ravel().\n",
      "  y = column_or_1d(y, warn=True)\n"
     ]
    },
    {
     "data": {
      "text/html": [
       "<style>#sk-container-id-10 {color: black;}#sk-container-id-10 pre{padding: 0;}#sk-container-id-10 div.sk-toggleable {background-color: white;}#sk-container-id-10 label.sk-toggleable__label {cursor: pointer;display: block;width: 100%;margin-bottom: 0;padding: 0.3em;box-sizing: border-box;text-align: center;}#sk-container-id-10 label.sk-toggleable__label-arrow:before {content: \"▸\";float: left;margin-right: 0.25em;color: #696969;}#sk-container-id-10 label.sk-toggleable__label-arrow:hover:before {color: black;}#sk-container-id-10 div.sk-estimator:hover label.sk-toggleable__label-arrow:before {color: black;}#sk-container-id-10 div.sk-toggleable__content {max-height: 0;max-width: 0;overflow: hidden;text-align: left;background-color: #f0f8ff;}#sk-container-id-10 div.sk-toggleable__content pre {margin: 0.2em;color: black;border-radius: 0.25em;background-color: #f0f8ff;}#sk-container-id-10 input.sk-toggleable__control:checked~div.sk-toggleable__content {max-height: 200px;max-width: 100%;overflow: auto;}#sk-container-id-10 input.sk-toggleable__control:checked~label.sk-toggleable__label-arrow:before {content: \"▾\";}#sk-container-id-10 div.sk-estimator input.sk-toggleable__control:checked~label.sk-toggleable__label {background-color: #d4ebff;}#sk-container-id-10 div.sk-label input.sk-toggleable__control:checked~label.sk-toggleable__label {background-color: #d4ebff;}#sk-container-id-10 input.sk-hidden--visually {border: 0;clip: rect(1px 1px 1px 1px);clip: rect(1px, 1px, 1px, 1px);height: 1px;margin: -1px;overflow: hidden;padding: 0;position: absolute;width: 1px;}#sk-container-id-10 div.sk-estimator {font-family: monospace;background-color: #f0f8ff;border: 1px dotted black;border-radius: 0.25em;box-sizing: border-box;margin-bottom: 0.5em;}#sk-container-id-10 div.sk-estimator:hover {background-color: #d4ebff;}#sk-container-id-10 div.sk-parallel-item::after {content: \"\";width: 100%;border-bottom: 1px solid gray;flex-grow: 1;}#sk-container-id-10 div.sk-label:hover label.sk-toggleable__label {background-color: #d4ebff;}#sk-container-id-10 div.sk-serial::before {content: \"\";position: absolute;border-left: 1px solid gray;box-sizing: border-box;top: 0;bottom: 0;left: 50%;z-index: 0;}#sk-container-id-10 div.sk-serial {display: flex;flex-direction: column;align-items: center;background-color: white;padding-right: 0.2em;padding-left: 0.2em;position: relative;}#sk-container-id-10 div.sk-item {position: relative;z-index: 1;}#sk-container-id-10 div.sk-parallel {display: flex;align-items: stretch;justify-content: center;background-color: white;position: relative;}#sk-container-id-10 div.sk-item::before, #sk-container-id-10 div.sk-parallel-item::before {content: \"\";position: absolute;border-left: 1px solid gray;box-sizing: border-box;top: 0;bottom: 0;left: 50%;z-index: -1;}#sk-container-id-10 div.sk-parallel-item {display: flex;flex-direction: column;z-index: 1;position: relative;background-color: white;}#sk-container-id-10 div.sk-parallel-item:first-child::after {align-self: flex-end;width: 50%;}#sk-container-id-10 div.sk-parallel-item:last-child::after {align-self: flex-start;width: 50%;}#sk-container-id-10 div.sk-parallel-item:only-child::after {width: 0;}#sk-container-id-10 div.sk-dashed-wrapped {border: 1px dashed gray;margin: 0 0.4em 0.5em 0.4em;box-sizing: border-box;padding-bottom: 0.4em;background-color: white;}#sk-container-id-10 div.sk-label label {font-family: monospace;font-weight: bold;display: inline-block;line-height: 1.2em;}#sk-container-id-10 div.sk-label-container {text-align: center;}#sk-container-id-10 div.sk-container {/* jupyter's `normalize.less` sets `[hidden] { display: none; }` but bootstrap.min.css set `[hidden] { display: none !important; }` so we also need the `!important` here to be able to override the default hidden behavior on the sphinx rendered scikit-learn.org. See: https://github.com/scikit-learn/scikit-learn/issues/21755 */display: inline-block !important;position: relative;}#sk-container-id-10 div.sk-text-repr-fallback {display: none;}</style><div id=\"sk-container-id-10\" class=\"sk-top-container\"><div class=\"sk-text-repr-fallback\"><pre>GradientBoostingRegressor()</pre><b>In a Jupyter environment, please rerun this cell to show the HTML representation or trust the notebook. <br />On GitHub, the HTML representation is unable to render, please try loading this page with nbviewer.org.</b></div><div class=\"sk-container\" hidden><div class=\"sk-item\"><div class=\"sk-estimator sk-toggleable\"><input class=\"sk-toggleable__control sk-hidden--visually\" id=\"sk-estimator-id-10\" type=\"checkbox\" checked><label for=\"sk-estimator-id-10\" class=\"sk-toggleable__label sk-toggleable__label-arrow\">GradientBoostingRegressor</label><div class=\"sk-toggleable__content\"><pre>GradientBoostingRegressor()</pre></div></div></div></div></div>"
      ],
      "text/plain": [
       "GradientBoostingRegressor()"
      ]
     },
     "execution_count": 94,
     "metadata": {},
     "output_type": "execute_result"
    }
   ],
   "source": [
    "from sklearn.ensemble import GradientBoostingRegressor\n",
    "\n",
    "GB = GradientBoostingRegressor()\n",
    "GB.fit(x_train,y_train)"
   ]
  },
  {
   "cell_type": "code",
   "execution_count": 95,
   "id": "0f655886",
   "metadata": {},
   "outputs": [
    {
     "data": {
      "text/plain": [
       "array([2465421.08307937, 3223969.41961783, 2536813.5069595 ,\n",
       "       7067443.83169064, 7283249.28655857, 4991405.05010433,\n",
       "       2418607.09684124, 3046569.10873847, 7424717.61597856,\n",
       "       4131272.31176842, 4522597.08000314, 6601944.83735434,\n",
       "       6699116.42200258, 1772333.55687336, 5528089.16136188,\n",
       "       3479389.50424989, 2068256.90325372, 5113483.96070766,\n",
       "       2199916.34385926, 4274847.01650891, 5121630.26737354,\n",
       "       3735034.79150979, 2352064.73406736, 2870670.63213858,\n",
       "       5596591.06347777, 4143996.1306096 , 3278036.78158446,\n",
       "       3973253.40232225, 1660512.44412662, 6594991.94397441])"
      ]
     },
     "execution_count": 95,
     "metadata": {},
     "output_type": "execute_result"
    }
   ],
   "source": [
    "pred4 = GB.predict(x_test)\n",
    "pred4"
   ]
  },
  {
   "cell_type": "code",
   "execution_count": 96,
   "id": "bfdfeef5",
   "metadata": {},
   "outputs": [
    {
     "data": {
      "text/plain": [
       "0.8499444600874602"
      ]
     },
     "execution_count": 96,
     "metadata": {},
     "output_type": "execute_result"
    }
   ],
   "source": [
    "score4 = r2_score(y_test,pred4)\n",
    "score4"
   ]
  },
  {
   "cell_type": "markdown",
   "id": "f72ad8bf",
   "metadata": {},
   "source": [
    "# 5th Model SVR"
   ]
  },
  {
   "cell_type": "code",
   "execution_count": 97,
   "id": "4bdd4085",
   "metadata": {},
   "outputs": [
    {
     "name": "stderr",
     "output_type": "stream",
     "text": [
      "C:\\Users\\admin\\anaconda3\\Lib\\site-packages\\sklearn\\utils\\validation.py:1184: DataConversionWarning: A column-vector y was passed when a 1d array was expected. Please change the shape of y to (n_samples, ), for example using ravel().\n",
      "  y = column_or_1d(y, warn=True)\n"
     ]
    },
    {
     "data": {
      "text/html": [
       "<style>#sk-container-id-11 {color: black;}#sk-container-id-11 pre{padding: 0;}#sk-container-id-11 div.sk-toggleable {background-color: white;}#sk-container-id-11 label.sk-toggleable__label {cursor: pointer;display: block;width: 100%;margin-bottom: 0;padding: 0.3em;box-sizing: border-box;text-align: center;}#sk-container-id-11 label.sk-toggleable__label-arrow:before {content: \"▸\";float: left;margin-right: 0.25em;color: #696969;}#sk-container-id-11 label.sk-toggleable__label-arrow:hover:before {color: black;}#sk-container-id-11 div.sk-estimator:hover label.sk-toggleable__label-arrow:before {color: black;}#sk-container-id-11 div.sk-toggleable__content {max-height: 0;max-width: 0;overflow: hidden;text-align: left;background-color: #f0f8ff;}#sk-container-id-11 div.sk-toggleable__content pre {margin: 0.2em;color: black;border-radius: 0.25em;background-color: #f0f8ff;}#sk-container-id-11 input.sk-toggleable__control:checked~div.sk-toggleable__content {max-height: 200px;max-width: 100%;overflow: auto;}#sk-container-id-11 input.sk-toggleable__control:checked~label.sk-toggleable__label-arrow:before {content: \"▾\";}#sk-container-id-11 div.sk-estimator input.sk-toggleable__control:checked~label.sk-toggleable__label {background-color: #d4ebff;}#sk-container-id-11 div.sk-label input.sk-toggleable__control:checked~label.sk-toggleable__label {background-color: #d4ebff;}#sk-container-id-11 input.sk-hidden--visually {border: 0;clip: rect(1px 1px 1px 1px);clip: rect(1px, 1px, 1px, 1px);height: 1px;margin: -1px;overflow: hidden;padding: 0;position: absolute;width: 1px;}#sk-container-id-11 div.sk-estimator {font-family: monospace;background-color: #f0f8ff;border: 1px dotted black;border-radius: 0.25em;box-sizing: border-box;margin-bottom: 0.5em;}#sk-container-id-11 div.sk-estimator:hover {background-color: #d4ebff;}#sk-container-id-11 div.sk-parallel-item::after {content: \"\";width: 100%;border-bottom: 1px solid gray;flex-grow: 1;}#sk-container-id-11 div.sk-label:hover label.sk-toggleable__label {background-color: #d4ebff;}#sk-container-id-11 div.sk-serial::before {content: \"\";position: absolute;border-left: 1px solid gray;box-sizing: border-box;top: 0;bottom: 0;left: 50%;z-index: 0;}#sk-container-id-11 div.sk-serial {display: flex;flex-direction: column;align-items: center;background-color: white;padding-right: 0.2em;padding-left: 0.2em;position: relative;}#sk-container-id-11 div.sk-item {position: relative;z-index: 1;}#sk-container-id-11 div.sk-parallel {display: flex;align-items: stretch;justify-content: center;background-color: white;position: relative;}#sk-container-id-11 div.sk-item::before, #sk-container-id-11 div.sk-parallel-item::before {content: \"\";position: absolute;border-left: 1px solid gray;box-sizing: border-box;top: 0;bottom: 0;left: 50%;z-index: -1;}#sk-container-id-11 div.sk-parallel-item {display: flex;flex-direction: column;z-index: 1;position: relative;background-color: white;}#sk-container-id-11 div.sk-parallel-item:first-child::after {align-self: flex-end;width: 50%;}#sk-container-id-11 div.sk-parallel-item:last-child::after {align-self: flex-start;width: 50%;}#sk-container-id-11 div.sk-parallel-item:only-child::after {width: 0;}#sk-container-id-11 div.sk-dashed-wrapped {border: 1px dashed gray;margin: 0 0.4em 0.5em 0.4em;box-sizing: border-box;padding-bottom: 0.4em;background-color: white;}#sk-container-id-11 div.sk-label label {font-family: monospace;font-weight: bold;display: inline-block;line-height: 1.2em;}#sk-container-id-11 div.sk-label-container {text-align: center;}#sk-container-id-11 div.sk-container {/* jupyter's `normalize.less` sets `[hidden] { display: none; }` but bootstrap.min.css set `[hidden] { display: none !important; }` so we also need the `!important` here to be able to override the default hidden behavior on the sphinx rendered scikit-learn.org. See: https://github.com/scikit-learn/scikit-learn/issues/21755 */display: inline-block !important;position: relative;}#sk-container-id-11 div.sk-text-repr-fallback {display: none;}</style><div id=\"sk-container-id-11\" class=\"sk-top-container\"><div class=\"sk-text-repr-fallback\"><pre>SVR()</pre><b>In a Jupyter environment, please rerun this cell to show the HTML representation or trust the notebook. <br />On GitHub, the HTML representation is unable to render, please try loading this page with nbviewer.org.</b></div><div class=\"sk-container\" hidden><div class=\"sk-item\"><div class=\"sk-estimator sk-toggleable\"><input class=\"sk-toggleable__control sk-hidden--visually\" id=\"sk-estimator-id-11\" type=\"checkbox\" checked><label for=\"sk-estimator-id-11\" class=\"sk-toggleable__label sk-toggleable__label-arrow\">SVR</label><div class=\"sk-toggleable__content\"><pre>SVR()</pre></div></div></div></div></div>"
      ],
      "text/plain": [
       "SVR()"
      ]
     },
     "execution_count": 97,
     "metadata": {},
     "output_type": "execute_result"
    }
   ],
   "source": [
    "from sklearn.svm import SVR\n",
    "\n",
    "svr = SVR()\n",
    "svr.fit(x_train,y_train)"
   ]
  },
  {
   "cell_type": "code",
   "execution_count": 98,
   "id": "bdbece0c",
   "metadata": {},
   "outputs": [
    {
     "data": {
      "text/plain": [
       "array([3827384.4957382 , 3827383.3058007 , 3827384.48963924,\n",
       "       3827388.81369137, 3827388.37088871, 3827390.81037753,\n",
       "       3827382.67740062, 3827379.92827022, 3827389.63206208,\n",
       "       3827388.0259585 , 3827388.56249929, 3827396.04089642,\n",
       "       3827392.26879765, 3827380.79195367, 3827395.13863625,\n",
       "       3827387.64953059, 3827381.87935803, 3827391.19335582,\n",
       "       3827383.65653638, 3827386.43632049, 3827393.81315241,\n",
       "       3827385.83027173, 3827384.03617456, 3827386.91544176,\n",
       "       3827396.50636433, 3827388.18402656, 3827388.76761812,\n",
       "       3827387.75346753, 3827379.5579031 , 3827391.83322957])"
      ]
     },
     "execution_count": 98,
     "metadata": {},
     "output_type": "execute_result"
    }
   ],
   "source": [
    "pred5 = svr.predict(x_test)\n",
    "pred5"
   ]
  },
  {
   "cell_type": "code",
   "execution_count": 99,
   "id": "9cea93ee",
   "metadata": {},
   "outputs": [
    {
     "data": {
      "text/plain": [
       "-0.08708459504722521"
      ]
     },
     "execution_count": 99,
     "metadata": {},
     "output_type": "execute_result"
    }
   ],
   "source": [
    "score5 = r2_score(y_test,pred5)\n",
    "score5"
   ]
  },
  {
   "cell_type": "markdown",
   "id": "04a92d15",
   "metadata": {},
   "source": [
    "# All Accuracy here"
   ]
  },
  {
   "cell_type": "code",
   "execution_count": 100,
   "id": "b5788042",
   "metadata": {},
   "outputs": [
    {
     "name": "stdout",
     "output_type": "stream",
     "text": [
      "Linear Regression:   0.8411934550277665\n",
      "Decision Tree:   0.8245567846594587\n",
      "Random Forest:   0.8478724794713054\n",
      "Gradient Boosting:   0.8499444600874602\n",
      "SVR:   -0.08708459504722521\n"
     ]
    }
   ],
   "source": [
    "print(\"Linear Regression:  \" , score1)\n",
    "print(\"Decision Tree:  \", score2)\n",
    "print(\"Random Forest:  \", score3)\n",
    "print(\"Gradient Boosting:  \", score4)\n",
    "print(\"SVR:  \", score5)"
   ]
  },
  {
   "cell_type": "code",
   "execution_count": null,
   "id": "3aac9d4f",
   "metadata": {},
   "outputs": [],
   "source": []
  }
 ],
 "metadata": {
  "kernelspec": {
   "display_name": "Python 3 (ipykernel)",
   "language": "python",
   "name": "python3"
  },
  "language_info": {
   "codemirror_mode": {
    "name": "ipython",
    "version": 3
   },
   "file_extension": ".py",
   "mimetype": "text/x-python",
   "name": "python",
   "nbconvert_exporter": "python",
   "pygments_lexer": "ipython3",
   "version": "3.11.4"
  }
 },
 "nbformat": 4,
 "nbformat_minor": 5
}
